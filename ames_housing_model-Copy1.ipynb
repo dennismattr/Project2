{
 "cells": [
  {
   "cell_type": "markdown",
   "metadata": {},
   "source": [
    "## Ames Housing Data Linear Regression Model\n",
    "\n",
    "#### Objective\n",
    "Create and optimize a Linear Regression Model that predicts the Sale Price of homes in Ames, Iowa\n",
    "\n",
    "#### Notes\n",
    "Data colleced between 2006 and 2010\n",
    "\n",
    "---"
   ]
  },
  {
   "cell_type": "markdown",
   "metadata": {},
   "source": [
    "## Data Dictionary\n",
    "\n",
    "\n",
    "- SalePrice - the property's sale price in dollars. This is the target variable that you're trying to predict.\n",
    "- MSSubClass: The building class\n",
    "- MSZoning: The general zoning classification\n",
    "- LotFrontage: Linear feet of street connected to property\n",
    "- LotArea: Lot size in square feet\n",
    "- Street: Type of road access\n",
    "- Alley: Type of alley access\n",
    "- LotShape: General shape of property\n",
    "- LandContour: Flatness of the property\n",
    "- Utilities: Type of utilities available\n",
    "- LotConfig: Lot configuration\n",
    "- LandSlope: Slope of property\n",
    "- Neighborhood: Physical locations within Ames city limits\n",
    "- Condition1: Proximity to main road or railroad\n",
    "- Condition2: Proximity to main road or railroad (if a second is present)\n",
    "- BldgType: Type of dwelling\n",
    "- HouseStyle: Style of dwelling\n",
    "- OverallQual: Overall material and finish quality\n",
    "- OverallCond: Overall condition rating\n",
    "- YearBuilt: Original construction date\n",
    "- YearRemodAdd: Remodel date\n",
    "- RoofStyle: Type of roof\n",
    "- RoofMatl: Roof material\n",
    "- Exterior1st: Exterior covering on house\n",
    "- Exterior2nd: Exterior covering on house (if more than one material)\n",
    "- MasVnrType: Masonry veneer type\n",
    "- MasVnrArea: Masonry veneer area in square feet\n",
    "- ExterQual: Exterior material quality\n",
    "- ExterCond: Present condition of the material on the exterior\n",
    "- Foundation: Type of foundation\n",
    "- BsmtQual: Height of the basement\n",
    "- BsmtCond: General condition of the basement\n",
    "- BsmtExposure: Walkout or garden level basement walls\n",
    "- BsmtFinType1: Quality of basement finished area\n",
    "- BsmtFinSF1: Type 1 finished square feet\n",
    "- BsmtFinType2: Quality of second finished area (if present)\n",
    "- BsmtFinSF2: Type 2 finished square feet\n",
    "- BsmtUnfSF: Unfinished square feet of basement area\n",
    "- TotalBsmtSF: Total square feet of basement area\n",
    "- Heating: Type of heating\n",
    "- HeatingQC: Heating quality and condition\n",
    "- CentralAir: Central air conditioning\n",
    "- Electrical: Electrical system\n",
    "- 1stFlrSF: First Floor square feet\n",
    "- 2ndFlrSF: Second floor square feet\n",
    "- LowQualFinSF: Low quality finished square feet (all floors)\n",
    "- GrLivArea: Above grade (ground) living area square feet\n",
    "- BsmtFullBath: Basement full bathrooms\n",
    "- BsmtHalfBath: Basement half bathrooms\n",
    "- FullBath: Full bathrooms above grade\n",
    "- HalfBath: Half baths above grade\n",
    "- Bedroom: Number of bedrooms above basement level\n",
    "- Kitchen: Number of kitchens\n",
    "- KitchenQual: Kitchen quality\n",
    "- TotRmsAbvGrd: Total rooms above grade (does not include bathrooms)\n",
    "- Functional: Home functionality rating\n",
    "- Fireplaces: Number of fireplaces\n",
    "- FireplaceQu: Fireplace quality\n",
    "- GarageType: Garage location\n",
    "- GarageYrBlt: Year garage was built\n",
    "- GarageFinish: Interior finish of the garage\n",
    "- GarageCars: Size of garage in car capacity\n",
    "- GarageArea: Size of garage in square feet\n",
    "- GarageQual: Garage quality\n",
    "- GarageCond: Garage condition\n",
    "- PavedDrive: Paved driveway\n",
    "- WoodDeckSF: Wood deck area in square feet\n",
    "- OpenPorchSF: Open porch area in square feet\n",
    "- EnclosedPorch: Enclosed porch area in square feet\n",
    "- 3SsnPorch: Three season porch area in square feet\n",
    "- ScreenPorch: Screen porch area in square feet\n",
    "- PoolArea: Pool area in square feet\n",
    "- PoolQC: Pool quality\n",
    "- Fence: Fence quality\n",
    "- MiscFeature: Miscellaneous feature not covered in other categories\n",
    "- MiscVal: $Value of miscellaneous feature\n",
    "- MoSold: Month Sold\n",
    "- YrSold: Year Sold\n",
    "- SaleType: Type of sale\n",
    "- SaleCondition: Condition of sale"
   ]
  },
  {
   "cell_type": "markdown",
   "metadata": {},
   "source": [
    "## Imports"
   ]
  },
  {
   "cell_type": "code",
   "execution_count": 1,
   "metadata": {},
   "outputs": [],
   "source": [
    "# Data manipulation\n",
    "import pandas as pd\n",
    "import numpy as np\n",
    "\n",
    "# Charts\n",
    "import matplotlib.pyplot as plt\n",
    "import seaborn as sns\n",
    "%matplotlib inline\n",
    "\n",
    "# Modeling\n",
    "from sklearn.pipeline import Pipeline\n",
    "from sklearn.linear_model import LinearRegression, ElasticNet, ElasticNetCV, Lasso, LassoCV\n",
    "from sklearn.model_selection import train_test_split, cross_val_score, GridSearchCV\n",
    "from sklearn.preprocessing import PolynomialFeatures, StandardScaler\n",
    "import sklearn.metrics as metrics"
   ]
  },
  {
   "cell_type": "markdown",
   "metadata": {},
   "source": [
    "## EDA\n",
    "Basic sanity checks and early feature investigation. Note, not all EDA that was done is shown, some actions were taken just to increase domain knowledge and then omitted from the final notebook for legibilities sake."
   ]
  },
  {
   "cell_type": "code",
   "execution_count": 2,
   "metadata": {},
   "outputs": [],
   "source": [
    "# Load training data into DataFrame named data\n",
    "data = pd.read_csv('./data/ames_train.csv')\n",
    "test = pd.read_csv('./data/ames_test.csv')"
   ]
  },
  {
   "cell_type": "code",
   "execution_count": 3,
   "metadata": {},
   "outputs": [
    {
     "data": {
      "text/plain": [
       "(2051, 81)"
      ]
     },
     "execution_count": 3,
     "metadata": {},
     "output_type": "execute_result"
    }
   ],
   "source": [
    "# Check general size of data set\n",
    "data.shape"
   ]
  },
  {
   "cell_type": "code",
   "execution_count": 4,
   "metadata": {
    "scrolled": false
   },
   "outputs": [
    {
     "name": "stdout",
     "output_type": "stream",
     "text": [
      "<class 'pandas.core.frame.DataFrame'>\n",
      "RangeIndex: 2051 entries, 0 to 2050\n",
      "Data columns (total 81 columns):\n",
      "Id                 2051 non-null int64\n",
      "PID                2051 non-null int64\n",
      "MS SubClass        2051 non-null int64\n",
      "MS Zoning          2051 non-null object\n",
      "Lot Frontage       1721 non-null float64\n",
      "Lot Area           2051 non-null int64\n",
      "Street             2051 non-null object\n",
      "Alley              140 non-null object\n",
      "Lot Shape          2051 non-null object\n",
      "Land Contour       2051 non-null object\n",
      "Utilities          2051 non-null object\n",
      "Lot Config         2051 non-null object\n",
      "Land Slope         2051 non-null object\n",
      "Neighborhood       2051 non-null object\n",
      "Condition 1        2051 non-null object\n",
      "Condition 2        2051 non-null object\n",
      "Bldg Type          2051 non-null object\n",
      "House Style        2051 non-null object\n",
      "Overall Qual       2051 non-null int64\n",
      "Overall Cond       2051 non-null int64\n",
      "Year Built         2051 non-null int64\n",
      "Year Remod/Add     2051 non-null int64\n",
      "Roof Style         2051 non-null object\n",
      "Roof Matl          2051 non-null object\n",
      "Exterior 1st       2051 non-null object\n",
      "Exterior 2nd       2051 non-null object\n",
      "Mas Vnr Type       2029 non-null object\n",
      "Mas Vnr Area       2029 non-null float64\n",
      "Exter Qual         2051 non-null object\n",
      "Exter Cond         2051 non-null object\n",
      "Foundation         2051 non-null object\n",
      "Bsmt Qual          1996 non-null object\n",
      "Bsmt Cond          1996 non-null object\n",
      "Bsmt Exposure      1993 non-null object\n",
      "BsmtFin Type 1     1996 non-null object\n",
      "BsmtFin SF 1       2050 non-null float64\n",
      "BsmtFin Type 2     1995 non-null object\n",
      "BsmtFin SF 2       2050 non-null float64\n",
      "Bsmt Unf SF        2050 non-null float64\n",
      "Total Bsmt SF      2050 non-null float64\n",
      "Heating            2051 non-null object\n",
      "Heating QC         2051 non-null object\n",
      "Central Air        2051 non-null object\n",
      "Electrical         2051 non-null object\n",
      "1st Flr SF         2051 non-null int64\n",
      "2nd Flr SF         2051 non-null int64\n",
      "Low Qual Fin SF    2051 non-null int64\n",
      "Gr Liv Area        2051 non-null int64\n",
      "Bsmt Full Bath     2049 non-null float64\n",
      "Bsmt Half Bath     2049 non-null float64\n",
      "Full Bath          2051 non-null int64\n",
      "Half Bath          2051 non-null int64\n",
      "Bedroom AbvGr      2051 non-null int64\n",
      "Kitchen AbvGr      2051 non-null int64\n",
      "Kitchen Qual       2051 non-null object\n",
      "TotRms AbvGrd      2051 non-null int64\n",
      "Functional         2051 non-null object\n",
      "Fireplaces         2051 non-null int64\n",
      "Fireplace Qu       1051 non-null object\n",
      "Garage Type        1938 non-null object\n",
      "Garage Yr Blt      1937 non-null float64\n",
      "Garage Finish      1937 non-null object\n",
      "Garage Cars        2050 non-null float64\n",
      "Garage Area        2050 non-null float64\n",
      "Garage Qual        1937 non-null object\n",
      "Garage Cond        1937 non-null object\n",
      "Paved Drive        2051 non-null object\n",
      "Wood Deck SF       2051 non-null int64\n",
      "Open Porch SF      2051 non-null int64\n",
      "Enclosed Porch     2051 non-null int64\n",
      "3Ssn Porch         2051 non-null int64\n",
      "Screen Porch       2051 non-null int64\n",
      "Pool Area          2051 non-null int64\n",
      "Pool QC            9 non-null object\n",
      "Fence              400 non-null object\n",
      "Misc Feature       65 non-null object\n",
      "Misc Val           2051 non-null int64\n",
      "Mo Sold            2051 non-null int64\n",
      "Yr Sold            2051 non-null int64\n",
      "Sale Type          2051 non-null object\n",
      "SalePrice          2051 non-null int64\n",
      "dtypes: float64(11), int64(28), object(42)\n",
      "memory usage: 1.3+ MB\n"
     ]
    }
   ],
   "source": [
    "# Integrity check\n",
    "data.info()"
   ]
  },
  {
   "cell_type": "code",
   "execution_count": 5,
   "metadata": {},
   "outputs": [
    {
     "data": {
      "text/plain": [
       "9822"
      ]
     },
     "execution_count": 5,
     "metadata": {},
     "output_type": "execute_result"
    }
   ],
   "source": [
    "# This is not a lot of missing data\n",
    "data.isnull().sum().sum()"
   ]
  },
  {
   "cell_type": "code",
   "execution_count": 6,
   "metadata": {
    "scrolled": false
   },
   "outputs": [
    {
     "data": {
      "text/html": [
       "<div>\n",
       "<style scoped>\n",
       "    .dataframe tbody tr th:only-of-type {\n",
       "        vertical-align: middle;\n",
       "    }\n",
       "\n",
       "    .dataframe tbody tr th {\n",
       "        vertical-align: top;\n",
       "    }\n",
       "\n",
       "    .dataframe thead th {\n",
       "        text-align: right;\n",
       "    }\n",
       "</style>\n",
       "<table border=\"1\" class=\"dataframe\">\n",
       "  <thead>\n",
       "    <tr style=\"text-align: right;\">\n",
       "      <th></th>\n",
       "      <th>Id</th>\n",
       "      <th>PID</th>\n",
       "      <th>MS SubClass</th>\n",
       "      <th>MS Zoning</th>\n",
       "      <th>Lot Frontage</th>\n",
       "      <th>Lot Area</th>\n",
       "      <th>Street</th>\n",
       "      <th>Alley</th>\n",
       "      <th>Lot Shape</th>\n",
       "      <th>Land Contour</th>\n",
       "      <th>...</th>\n",
       "      <th>Screen Porch</th>\n",
       "      <th>Pool Area</th>\n",
       "      <th>Pool QC</th>\n",
       "      <th>Fence</th>\n",
       "      <th>Misc Feature</th>\n",
       "      <th>Misc Val</th>\n",
       "      <th>Mo Sold</th>\n",
       "      <th>Yr Sold</th>\n",
       "      <th>Sale Type</th>\n",
       "      <th>SalePrice</th>\n",
       "    </tr>\n",
       "  </thead>\n",
       "  <tbody>\n",
       "    <tr>\n",
       "      <th>0</th>\n",
       "      <td>109</td>\n",
       "      <td>533352170</td>\n",
       "      <td>60</td>\n",
       "      <td>RL</td>\n",
       "      <td>NaN</td>\n",
       "      <td>13517</td>\n",
       "      <td>Pave</td>\n",
       "      <td>NaN</td>\n",
       "      <td>IR1</td>\n",
       "      <td>Lvl</td>\n",
       "      <td>...</td>\n",
       "      <td>0</td>\n",
       "      <td>0</td>\n",
       "      <td>NaN</td>\n",
       "      <td>NaN</td>\n",
       "      <td>NaN</td>\n",
       "      <td>0</td>\n",
       "      <td>3</td>\n",
       "      <td>2010</td>\n",
       "      <td>WD</td>\n",
       "      <td>130500</td>\n",
       "    </tr>\n",
       "    <tr>\n",
       "      <th>1</th>\n",
       "      <td>544</td>\n",
       "      <td>531379050</td>\n",
       "      <td>60</td>\n",
       "      <td>RL</td>\n",
       "      <td>43.0</td>\n",
       "      <td>11492</td>\n",
       "      <td>Pave</td>\n",
       "      <td>NaN</td>\n",
       "      <td>IR1</td>\n",
       "      <td>Lvl</td>\n",
       "      <td>...</td>\n",
       "      <td>0</td>\n",
       "      <td>0</td>\n",
       "      <td>NaN</td>\n",
       "      <td>NaN</td>\n",
       "      <td>NaN</td>\n",
       "      <td>0</td>\n",
       "      <td>4</td>\n",
       "      <td>2009</td>\n",
       "      <td>WD</td>\n",
       "      <td>220000</td>\n",
       "    </tr>\n",
       "    <tr>\n",
       "      <th>2</th>\n",
       "      <td>153</td>\n",
       "      <td>535304180</td>\n",
       "      <td>20</td>\n",
       "      <td>RL</td>\n",
       "      <td>68.0</td>\n",
       "      <td>7922</td>\n",
       "      <td>Pave</td>\n",
       "      <td>NaN</td>\n",
       "      <td>Reg</td>\n",
       "      <td>Lvl</td>\n",
       "      <td>...</td>\n",
       "      <td>0</td>\n",
       "      <td>0</td>\n",
       "      <td>NaN</td>\n",
       "      <td>NaN</td>\n",
       "      <td>NaN</td>\n",
       "      <td>0</td>\n",
       "      <td>1</td>\n",
       "      <td>2010</td>\n",
       "      <td>WD</td>\n",
       "      <td>109000</td>\n",
       "    </tr>\n",
       "    <tr>\n",
       "      <th>3</th>\n",
       "      <td>318</td>\n",
       "      <td>916386060</td>\n",
       "      <td>60</td>\n",
       "      <td>RL</td>\n",
       "      <td>73.0</td>\n",
       "      <td>9802</td>\n",
       "      <td>Pave</td>\n",
       "      <td>NaN</td>\n",
       "      <td>Reg</td>\n",
       "      <td>Lvl</td>\n",
       "      <td>...</td>\n",
       "      <td>0</td>\n",
       "      <td>0</td>\n",
       "      <td>NaN</td>\n",
       "      <td>NaN</td>\n",
       "      <td>NaN</td>\n",
       "      <td>0</td>\n",
       "      <td>4</td>\n",
       "      <td>2010</td>\n",
       "      <td>WD</td>\n",
       "      <td>174000</td>\n",
       "    </tr>\n",
       "    <tr>\n",
       "      <th>4</th>\n",
       "      <td>255</td>\n",
       "      <td>906425045</td>\n",
       "      <td>50</td>\n",
       "      <td>RL</td>\n",
       "      <td>82.0</td>\n",
       "      <td>14235</td>\n",
       "      <td>Pave</td>\n",
       "      <td>NaN</td>\n",
       "      <td>IR1</td>\n",
       "      <td>Lvl</td>\n",
       "      <td>...</td>\n",
       "      <td>0</td>\n",
       "      <td>0</td>\n",
       "      <td>NaN</td>\n",
       "      <td>NaN</td>\n",
       "      <td>NaN</td>\n",
       "      <td>0</td>\n",
       "      <td>3</td>\n",
       "      <td>2010</td>\n",
       "      <td>WD</td>\n",
       "      <td>138500</td>\n",
       "    </tr>\n",
       "  </tbody>\n",
       "</table>\n",
       "<p>5 rows × 81 columns</p>\n",
       "</div>"
      ],
      "text/plain": [
       "    Id        PID  MS SubClass MS Zoning  Lot Frontage  Lot Area Street Alley  \\\n",
       "0  109  533352170           60        RL           NaN     13517   Pave   NaN   \n",
       "1  544  531379050           60        RL          43.0     11492   Pave   NaN   \n",
       "2  153  535304180           20        RL          68.0      7922   Pave   NaN   \n",
       "3  318  916386060           60        RL          73.0      9802   Pave   NaN   \n",
       "4  255  906425045           50        RL          82.0     14235   Pave   NaN   \n",
       "\n",
       "  Lot Shape Land Contour    ...     Screen Porch Pool Area Pool QC Fence  \\\n",
       "0       IR1          Lvl    ...                0         0     NaN   NaN   \n",
       "1       IR1          Lvl    ...                0         0     NaN   NaN   \n",
       "2       Reg          Lvl    ...                0         0     NaN   NaN   \n",
       "3       Reg          Lvl    ...                0         0     NaN   NaN   \n",
       "4       IR1          Lvl    ...                0         0     NaN   NaN   \n",
       "\n",
       "  Misc Feature Misc Val Mo Sold Yr Sold  Sale Type  SalePrice  \n",
       "0          NaN        0       3    2010        WD      130500  \n",
       "1          NaN        0       4    2009        WD      220000  \n",
       "2          NaN        0       1    2010        WD      109000  \n",
       "3          NaN        0       4    2010        WD      174000  \n",
       "4          NaN        0       3    2010        WD      138500  \n",
       "\n",
       "[5 rows x 81 columns]"
      ]
     },
     "execution_count": 6,
     "metadata": {},
     "output_type": "execute_result"
    }
   ],
   "source": [
    "# General inspection of data\n",
    "data.head()"
   ]
  },
  {
   "cell_type": "code",
   "execution_count": 7,
   "metadata": {},
   "outputs": [],
   "source": [
    "# One hot encode selected features\n",
    "def encode_dataframe(df):\n",
    "    encode_list = [\n",
    "        'Foundation',\n",
    "        'Sale Type'\n",
    "        #'Roof Style',\n",
    "        #'Bldg Type',\n",
    "        #'House Style',\n",
    "        #'Roof Matl',\n",
    "        #'Exterior 1st',\n",
    "        #'Exterior 2nd'\n",
    "    ]\n",
    "\n",
    "    return pd.get_dummies(df, drop_first=False, columns=encode_list)\n",
    "\n",
    "# Call encode function on training data\n",
    "data = encode_dataframe(data)"
   ]
  },
  {
   "cell_type": "code",
   "execution_count": 8,
   "metadata": {},
   "outputs": [
    {
     "data": {
      "text/html": [
       "<div>\n",
       "<style scoped>\n",
       "    .dataframe tbody tr th:only-of-type {\n",
       "        vertical-align: middle;\n",
       "    }\n",
       "\n",
       "    .dataframe tbody tr th {\n",
       "        vertical-align: top;\n",
       "    }\n",
       "\n",
       "    .dataframe thead th {\n",
       "        text-align: right;\n",
       "    }\n",
       "</style>\n",
       "<table border=\"1\" class=\"dataframe\">\n",
       "  <thead>\n",
       "    <tr style=\"text-align: right;\">\n",
       "      <th></th>\n",
       "      <th>count</th>\n",
       "      <th>mean</th>\n",
       "      <th>std</th>\n",
       "      <th>min</th>\n",
       "      <th>25%</th>\n",
       "      <th>50%</th>\n",
       "      <th>75%</th>\n",
       "      <th>max</th>\n",
       "    </tr>\n",
       "  </thead>\n",
       "  <tbody>\n",
       "    <tr>\n",
       "      <th>Id</th>\n",
       "      <td>2051.0</td>\n",
       "      <td>1.474034e+03</td>\n",
       "      <td>8.439808e+02</td>\n",
       "      <td>1.0</td>\n",
       "      <td>753.5</td>\n",
       "      <td>1486.0</td>\n",
       "      <td>2.198000e+03</td>\n",
       "      <td>2930.0</td>\n",
       "    </tr>\n",
       "    <tr>\n",
       "      <th>PID</th>\n",
       "      <td>2051.0</td>\n",
       "      <td>7.135900e+08</td>\n",
       "      <td>1.886918e+08</td>\n",
       "      <td>526301100.0</td>\n",
       "      <td>528458140.0</td>\n",
       "      <td>535453200.0</td>\n",
       "      <td>9.071801e+08</td>\n",
       "      <td>924152030.0</td>\n",
       "    </tr>\n",
       "    <tr>\n",
       "      <th>MS SubClass</th>\n",
       "      <td>2051.0</td>\n",
       "      <td>5.700878e+01</td>\n",
       "      <td>4.282422e+01</td>\n",
       "      <td>20.0</td>\n",
       "      <td>20.0</td>\n",
       "      <td>50.0</td>\n",
       "      <td>7.000000e+01</td>\n",
       "      <td>190.0</td>\n",
       "    </tr>\n",
       "    <tr>\n",
       "      <th>Lot Frontage</th>\n",
       "      <td>1721.0</td>\n",
       "      <td>6.905520e+01</td>\n",
       "      <td>2.326065e+01</td>\n",
       "      <td>21.0</td>\n",
       "      <td>58.0</td>\n",
       "      <td>68.0</td>\n",
       "      <td>8.000000e+01</td>\n",
       "      <td>313.0</td>\n",
       "    </tr>\n",
       "    <tr>\n",
       "      <th>Lot Area</th>\n",
       "      <td>2051.0</td>\n",
       "      <td>1.006521e+04</td>\n",
       "      <td>6.742489e+03</td>\n",
       "      <td>1300.0</td>\n",
       "      <td>7500.0</td>\n",
       "      <td>9430.0</td>\n",
       "      <td>1.151350e+04</td>\n",
       "      <td>159000.0</td>\n",
       "    </tr>\n",
       "    <tr>\n",
       "      <th>Overall Qual</th>\n",
       "      <td>2051.0</td>\n",
       "      <td>6.112140e+00</td>\n",
       "      <td>1.426271e+00</td>\n",
       "      <td>1.0</td>\n",
       "      <td>5.0</td>\n",
       "      <td>6.0</td>\n",
       "      <td>7.000000e+00</td>\n",
       "      <td>10.0</td>\n",
       "    </tr>\n",
       "    <tr>\n",
       "      <th>Overall Cond</th>\n",
       "      <td>2051.0</td>\n",
       "      <td>5.562165e+00</td>\n",
       "      <td>1.104497e+00</td>\n",
       "      <td>1.0</td>\n",
       "      <td>5.0</td>\n",
       "      <td>5.0</td>\n",
       "      <td>6.000000e+00</td>\n",
       "      <td>9.0</td>\n",
       "    </tr>\n",
       "    <tr>\n",
       "      <th>Year Built</th>\n",
       "      <td>2051.0</td>\n",
       "      <td>1.971709e+03</td>\n",
       "      <td>3.017789e+01</td>\n",
       "      <td>1872.0</td>\n",
       "      <td>1953.5</td>\n",
       "      <td>1974.0</td>\n",
       "      <td>2.001000e+03</td>\n",
       "      <td>2010.0</td>\n",
       "    </tr>\n",
       "    <tr>\n",
       "      <th>Year Remod/Add</th>\n",
       "      <td>2051.0</td>\n",
       "      <td>1.984190e+03</td>\n",
       "      <td>2.103625e+01</td>\n",
       "      <td>1950.0</td>\n",
       "      <td>1964.5</td>\n",
       "      <td>1993.0</td>\n",
       "      <td>2.004000e+03</td>\n",
       "      <td>2010.0</td>\n",
       "    </tr>\n",
       "    <tr>\n",
       "      <th>Mas Vnr Area</th>\n",
       "      <td>2029.0</td>\n",
       "      <td>9.969591e+01</td>\n",
       "      <td>1.749631e+02</td>\n",
       "      <td>0.0</td>\n",
       "      <td>0.0</td>\n",
       "      <td>0.0</td>\n",
       "      <td>1.610000e+02</td>\n",
       "      <td>1600.0</td>\n",
       "    </tr>\n",
       "    <tr>\n",
       "      <th>BsmtFin SF 1</th>\n",
       "      <td>2050.0</td>\n",
       "      <td>4.423005e+02</td>\n",
       "      <td>4.612041e+02</td>\n",
       "      <td>0.0</td>\n",
       "      <td>0.0</td>\n",
       "      <td>368.0</td>\n",
       "      <td>7.337500e+02</td>\n",
       "      <td>5644.0</td>\n",
       "    </tr>\n",
       "    <tr>\n",
       "      <th>BsmtFin SF 2</th>\n",
       "      <td>2050.0</td>\n",
       "      <td>4.795902e+01</td>\n",
       "      <td>1.650009e+02</td>\n",
       "      <td>0.0</td>\n",
       "      <td>0.0</td>\n",
       "      <td>0.0</td>\n",
       "      <td>0.000000e+00</td>\n",
       "      <td>1474.0</td>\n",
       "    </tr>\n",
       "    <tr>\n",
       "      <th>Bsmt Unf SF</th>\n",
       "      <td>2050.0</td>\n",
       "      <td>5.677283e+02</td>\n",
       "      <td>4.449548e+02</td>\n",
       "      <td>0.0</td>\n",
       "      <td>220.0</td>\n",
       "      <td>474.5</td>\n",
       "      <td>8.110000e+02</td>\n",
       "      <td>2336.0</td>\n",
       "    </tr>\n",
       "    <tr>\n",
       "      <th>Total Bsmt SF</th>\n",
       "      <td>2050.0</td>\n",
       "      <td>1.057988e+03</td>\n",
       "      <td>4.494107e+02</td>\n",
       "      <td>0.0</td>\n",
       "      <td>793.0</td>\n",
       "      <td>994.5</td>\n",
       "      <td>1.318750e+03</td>\n",
       "      <td>6110.0</td>\n",
       "    </tr>\n",
       "    <tr>\n",
       "      <th>1st Flr SF</th>\n",
       "      <td>2051.0</td>\n",
       "      <td>1.164488e+03</td>\n",
       "      <td>3.964469e+02</td>\n",
       "      <td>334.0</td>\n",
       "      <td>879.5</td>\n",
       "      <td>1093.0</td>\n",
       "      <td>1.405000e+03</td>\n",
       "      <td>5095.0</td>\n",
       "    </tr>\n",
       "    <tr>\n",
       "      <th>2nd Flr SF</th>\n",
       "      <td>2051.0</td>\n",
       "      <td>3.293291e+02</td>\n",
       "      <td>4.256710e+02</td>\n",
       "      <td>0.0</td>\n",
       "      <td>0.0</td>\n",
       "      <td>0.0</td>\n",
       "      <td>6.925000e+02</td>\n",
       "      <td>1862.0</td>\n",
       "    </tr>\n",
       "    <tr>\n",
       "      <th>Low Qual Fin SF</th>\n",
       "      <td>2051.0</td>\n",
       "      <td>5.512921e+00</td>\n",
       "      <td>5.106887e+01</td>\n",
       "      <td>0.0</td>\n",
       "      <td>0.0</td>\n",
       "      <td>0.0</td>\n",
       "      <td>0.000000e+00</td>\n",
       "      <td>1064.0</td>\n",
       "    </tr>\n",
       "    <tr>\n",
       "      <th>Gr Liv Area</th>\n",
       "      <td>2051.0</td>\n",
       "      <td>1.499330e+03</td>\n",
       "      <td>5.004478e+02</td>\n",
       "      <td>334.0</td>\n",
       "      <td>1129.0</td>\n",
       "      <td>1444.0</td>\n",
       "      <td>1.728500e+03</td>\n",
       "      <td>5642.0</td>\n",
       "    </tr>\n",
       "    <tr>\n",
       "      <th>Bsmt Full Bath</th>\n",
       "      <td>2049.0</td>\n",
       "      <td>4.275256e-01</td>\n",
       "      <td>5.226732e-01</td>\n",
       "      <td>0.0</td>\n",
       "      <td>0.0</td>\n",
       "      <td>0.0</td>\n",
       "      <td>1.000000e+00</td>\n",
       "      <td>3.0</td>\n",
       "    </tr>\n",
       "    <tr>\n",
       "      <th>Bsmt Half Bath</th>\n",
       "      <td>2049.0</td>\n",
       "      <td>6.344558e-02</td>\n",
       "      <td>2.517052e-01</td>\n",
       "      <td>0.0</td>\n",
       "      <td>0.0</td>\n",
       "      <td>0.0</td>\n",
       "      <td>0.000000e+00</td>\n",
       "      <td>2.0</td>\n",
       "    </tr>\n",
       "    <tr>\n",
       "      <th>Full Bath</th>\n",
       "      <td>2051.0</td>\n",
       "      <td>1.577279e+00</td>\n",
       "      <td>5.492794e-01</td>\n",
       "      <td>0.0</td>\n",
       "      <td>1.0</td>\n",
       "      <td>2.0</td>\n",
       "      <td>2.000000e+00</td>\n",
       "      <td>4.0</td>\n",
       "    </tr>\n",
       "    <tr>\n",
       "      <th>Half Bath</th>\n",
       "      <td>2051.0</td>\n",
       "      <td>3.710385e-01</td>\n",
       "      <td>5.010427e-01</td>\n",
       "      <td>0.0</td>\n",
       "      <td>0.0</td>\n",
       "      <td>0.0</td>\n",
       "      <td>1.000000e+00</td>\n",
       "      <td>2.0</td>\n",
       "    </tr>\n",
       "    <tr>\n",
       "      <th>Bedroom AbvGr</th>\n",
       "      <td>2051.0</td>\n",
       "      <td>2.843491e+00</td>\n",
       "      <td>8.266183e-01</td>\n",
       "      <td>0.0</td>\n",
       "      <td>2.0</td>\n",
       "      <td>3.0</td>\n",
       "      <td>3.000000e+00</td>\n",
       "      <td>8.0</td>\n",
       "    </tr>\n",
       "    <tr>\n",
       "      <th>Kitchen AbvGr</th>\n",
       "      <td>2051.0</td>\n",
       "      <td>1.042906e+00</td>\n",
       "      <td>2.097900e-01</td>\n",
       "      <td>0.0</td>\n",
       "      <td>1.0</td>\n",
       "      <td>1.0</td>\n",
       "      <td>1.000000e+00</td>\n",
       "      <td>3.0</td>\n",
       "    </tr>\n",
       "    <tr>\n",
       "      <th>TotRms AbvGrd</th>\n",
       "      <td>2051.0</td>\n",
       "      <td>6.435885e+00</td>\n",
       "      <td>1.560225e+00</td>\n",
       "      <td>2.0</td>\n",
       "      <td>5.0</td>\n",
       "      <td>6.0</td>\n",
       "      <td>7.000000e+00</td>\n",
       "      <td>15.0</td>\n",
       "    </tr>\n",
       "    <tr>\n",
       "      <th>Fireplaces</th>\n",
       "      <td>2051.0</td>\n",
       "      <td>5.909313e-01</td>\n",
       "      <td>6.385163e-01</td>\n",
       "      <td>0.0</td>\n",
       "      <td>0.0</td>\n",
       "      <td>1.0</td>\n",
       "      <td>1.000000e+00</td>\n",
       "      <td>4.0</td>\n",
       "    </tr>\n",
       "    <tr>\n",
       "      <th>Garage Yr Blt</th>\n",
       "      <td>1937.0</td>\n",
       "      <td>1.978708e+03</td>\n",
       "      <td>2.544109e+01</td>\n",
       "      <td>1895.0</td>\n",
       "      <td>1961.0</td>\n",
       "      <td>1980.0</td>\n",
       "      <td>2.002000e+03</td>\n",
       "      <td>2207.0</td>\n",
       "    </tr>\n",
       "    <tr>\n",
       "      <th>Garage Cars</th>\n",
       "      <td>2050.0</td>\n",
       "      <td>1.776585e+00</td>\n",
       "      <td>7.645374e-01</td>\n",
       "      <td>0.0</td>\n",
       "      <td>1.0</td>\n",
       "      <td>2.0</td>\n",
       "      <td>2.000000e+00</td>\n",
       "      <td>5.0</td>\n",
       "    </tr>\n",
       "    <tr>\n",
       "      <th>Garage Area</th>\n",
       "      <td>2050.0</td>\n",
       "      <td>4.736717e+02</td>\n",
       "      <td>2.159346e+02</td>\n",
       "      <td>0.0</td>\n",
       "      <td>319.0</td>\n",
       "      <td>480.0</td>\n",
       "      <td>5.760000e+02</td>\n",
       "      <td>1418.0</td>\n",
       "    </tr>\n",
       "    <tr>\n",
       "      <th>Wood Deck SF</th>\n",
       "      <td>2051.0</td>\n",
       "      <td>9.383374e+01</td>\n",
       "      <td>1.285494e+02</td>\n",
       "      <td>0.0</td>\n",
       "      <td>0.0</td>\n",
       "      <td>0.0</td>\n",
       "      <td>1.680000e+02</td>\n",
       "      <td>1424.0</td>\n",
       "    </tr>\n",
       "    <tr>\n",
       "      <th>Open Porch SF</th>\n",
       "      <td>2051.0</td>\n",
       "      <td>4.755680e+01</td>\n",
       "      <td>6.674724e+01</td>\n",
       "      <td>0.0</td>\n",
       "      <td>0.0</td>\n",
       "      <td>27.0</td>\n",
       "      <td>7.000000e+01</td>\n",
       "      <td>547.0</td>\n",
       "    </tr>\n",
       "    <tr>\n",
       "      <th>Enclosed Porch</th>\n",
       "      <td>2051.0</td>\n",
       "      <td>2.257192e+01</td>\n",
       "      <td>5.984511e+01</td>\n",
       "      <td>0.0</td>\n",
       "      <td>0.0</td>\n",
       "      <td>0.0</td>\n",
       "      <td>0.000000e+00</td>\n",
       "      <td>432.0</td>\n",
       "    </tr>\n",
       "    <tr>\n",
       "      <th>3Ssn Porch</th>\n",
       "      <td>2051.0</td>\n",
       "      <td>2.591419e+00</td>\n",
       "      <td>2.522961e+01</td>\n",
       "      <td>0.0</td>\n",
       "      <td>0.0</td>\n",
       "      <td>0.0</td>\n",
       "      <td>0.000000e+00</td>\n",
       "      <td>508.0</td>\n",
       "    </tr>\n",
       "    <tr>\n",
       "      <th>Screen Porch</th>\n",
       "      <td>2051.0</td>\n",
       "      <td>1.651146e+01</td>\n",
       "      <td>5.737420e+01</td>\n",
       "      <td>0.0</td>\n",
       "      <td>0.0</td>\n",
       "      <td>0.0</td>\n",
       "      <td>0.000000e+00</td>\n",
       "      <td>490.0</td>\n",
       "    </tr>\n",
       "    <tr>\n",
       "      <th>Pool Area</th>\n",
       "      <td>2051.0</td>\n",
       "      <td>2.397855e+00</td>\n",
       "      <td>3.778257e+01</td>\n",
       "      <td>0.0</td>\n",
       "      <td>0.0</td>\n",
       "      <td>0.0</td>\n",
       "      <td>0.000000e+00</td>\n",
       "      <td>800.0</td>\n",
       "    </tr>\n",
       "    <tr>\n",
       "      <th>Misc Val</th>\n",
       "      <td>2051.0</td>\n",
       "      <td>5.157435e+01</td>\n",
       "      <td>5.733940e+02</td>\n",
       "      <td>0.0</td>\n",
       "      <td>0.0</td>\n",
       "      <td>0.0</td>\n",
       "      <td>0.000000e+00</td>\n",
       "      <td>17000.0</td>\n",
       "    </tr>\n",
       "    <tr>\n",
       "      <th>Mo Sold</th>\n",
       "      <td>2051.0</td>\n",
       "      <td>6.219893e+00</td>\n",
       "      <td>2.744736e+00</td>\n",
       "      <td>1.0</td>\n",
       "      <td>4.0</td>\n",
       "      <td>6.0</td>\n",
       "      <td>8.000000e+00</td>\n",
       "      <td>12.0</td>\n",
       "    </tr>\n",
       "    <tr>\n",
       "      <th>Yr Sold</th>\n",
       "      <td>2051.0</td>\n",
       "      <td>2.007776e+03</td>\n",
       "      <td>1.312014e+00</td>\n",
       "      <td>2006.0</td>\n",
       "      <td>2007.0</td>\n",
       "      <td>2008.0</td>\n",
       "      <td>2.009000e+03</td>\n",
       "      <td>2010.0</td>\n",
       "    </tr>\n",
       "    <tr>\n",
       "      <th>SalePrice</th>\n",
       "      <td>2051.0</td>\n",
       "      <td>1.814697e+05</td>\n",
       "      <td>7.925866e+04</td>\n",
       "      <td>12789.0</td>\n",
       "      <td>129825.0</td>\n",
       "      <td>162500.0</td>\n",
       "      <td>2.140000e+05</td>\n",
       "      <td>611657.0</td>\n",
       "    </tr>\n",
       "    <tr>\n",
       "      <th>Foundation_BrkTil</th>\n",
       "      <td>2051.0</td>\n",
       "      <td>1.077523e-01</td>\n",
       "      <td>3.101430e-01</td>\n",
       "      <td>0.0</td>\n",
       "      <td>0.0</td>\n",
       "      <td>0.0</td>\n",
       "      <td>0.000000e+00</td>\n",
       "      <td>1.0</td>\n",
       "    </tr>\n",
       "    <tr>\n",
       "      <th>Foundation_CBlock</th>\n",
       "      <td>2051.0</td>\n",
       "      <td>4.207704e-01</td>\n",
       "      <td>4.938032e-01</td>\n",
       "      <td>0.0</td>\n",
       "      <td>0.0</td>\n",
       "      <td>0.0</td>\n",
       "      <td>1.000000e+00</td>\n",
       "      <td>1.0</td>\n",
       "    </tr>\n",
       "    <tr>\n",
       "      <th>Foundation_PConc</th>\n",
       "      <td>2051.0</td>\n",
       "      <td>4.514871e-01</td>\n",
       "      <td>4.977623e-01</td>\n",
       "      <td>0.0</td>\n",
       "      <td>0.0</td>\n",
       "      <td>0.0</td>\n",
       "      <td>1.000000e+00</td>\n",
       "      <td>1.0</td>\n",
       "    </tr>\n",
       "    <tr>\n",
       "      <th>Foundation_Slab</th>\n",
       "      <td>2051.0</td>\n",
       "      <td>1.657728e-02</td>\n",
       "      <td>1.277123e-01</td>\n",
       "      <td>0.0</td>\n",
       "      <td>0.0</td>\n",
       "      <td>0.0</td>\n",
       "      <td>0.000000e+00</td>\n",
       "      <td>1.0</td>\n",
       "    </tr>\n",
       "    <tr>\n",
       "      <th>Foundation_Stone</th>\n",
       "      <td>2051.0</td>\n",
       "      <td>2.437835e-03</td>\n",
       "      <td>4.932625e-02</td>\n",
       "      <td>0.0</td>\n",
       "      <td>0.0</td>\n",
       "      <td>0.0</td>\n",
       "      <td>0.000000e+00</td>\n",
       "      <td>1.0</td>\n",
       "    </tr>\n",
       "    <tr>\n",
       "      <th>Foundation_Wood</th>\n",
       "      <td>2051.0</td>\n",
       "      <td>9.751341e-04</td>\n",
       "      <td>3.121952e-02</td>\n",
       "      <td>0.0</td>\n",
       "      <td>0.0</td>\n",
       "      <td>0.0</td>\n",
       "      <td>0.000000e+00</td>\n",
       "      <td>1.0</td>\n",
       "    </tr>\n",
       "    <tr>\n",
       "      <th>Sale Type_COD</th>\n",
       "      <td>2051.0</td>\n",
       "      <td>3.071672e-02</td>\n",
       "      <td>1.725912e-01</td>\n",
       "      <td>0.0</td>\n",
       "      <td>0.0</td>\n",
       "      <td>0.0</td>\n",
       "      <td>0.000000e+00</td>\n",
       "      <td>1.0</td>\n",
       "    </tr>\n",
       "    <tr>\n",
       "      <th>Sale Type_CWD</th>\n",
       "      <td>2051.0</td>\n",
       "      <td>4.875670e-03</td>\n",
       "      <td>6.967256e-02</td>\n",
       "      <td>0.0</td>\n",
       "      <td>0.0</td>\n",
       "      <td>0.0</td>\n",
       "      <td>0.000000e+00</td>\n",
       "      <td>1.0</td>\n",
       "    </tr>\n",
       "    <tr>\n",
       "      <th>Sale Type_Con</th>\n",
       "      <td>2051.0</td>\n",
       "      <td>1.950268e-03</td>\n",
       "      <td>4.412952e-02</td>\n",
       "      <td>0.0</td>\n",
       "      <td>0.0</td>\n",
       "      <td>0.0</td>\n",
       "      <td>0.000000e+00</td>\n",
       "      <td>1.0</td>\n",
       "    </tr>\n",
       "    <tr>\n",
       "      <th>Sale Type_ConLD</th>\n",
       "      <td>2051.0</td>\n",
       "      <td>8.288640e-03</td>\n",
       "      <td>9.068598e-02</td>\n",
       "      <td>0.0</td>\n",
       "      <td>0.0</td>\n",
       "      <td>0.0</td>\n",
       "      <td>0.000000e+00</td>\n",
       "      <td>1.0</td>\n",
       "    </tr>\n",
       "    <tr>\n",
       "      <th>Sale Type_ConLI</th>\n",
       "      <td>2051.0</td>\n",
       "      <td>3.412969e-03</td>\n",
       "      <td>5.833507e-02</td>\n",
       "      <td>0.0</td>\n",
       "      <td>0.0</td>\n",
       "      <td>0.0</td>\n",
       "      <td>0.000000e+00</td>\n",
       "      <td>1.0</td>\n",
       "    </tr>\n",
       "    <tr>\n",
       "      <th>Sale Type_ConLw</th>\n",
       "      <td>2051.0</td>\n",
       "      <td>2.437835e-03</td>\n",
       "      <td>4.932625e-02</td>\n",
       "      <td>0.0</td>\n",
       "      <td>0.0</td>\n",
       "      <td>0.0</td>\n",
       "      <td>0.000000e+00</td>\n",
       "      <td>1.0</td>\n",
       "    </tr>\n",
       "    <tr>\n",
       "      <th>Sale Type_New</th>\n",
       "      <td>2051.0</td>\n",
       "      <td>7.801073e-02</td>\n",
       "      <td>2.682539e-01</td>\n",
       "      <td>0.0</td>\n",
       "      <td>0.0</td>\n",
       "      <td>0.0</td>\n",
       "      <td>0.000000e+00</td>\n",
       "      <td>1.0</td>\n",
       "    </tr>\n",
       "    <tr>\n",
       "      <th>Sale Type_Oth</th>\n",
       "      <td>2051.0</td>\n",
       "      <td>1.950268e-03</td>\n",
       "      <td>4.412952e-02</td>\n",
       "      <td>0.0</td>\n",
       "      <td>0.0</td>\n",
       "      <td>0.0</td>\n",
       "      <td>0.000000e+00</td>\n",
       "      <td>1.0</td>\n",
       "    </tr>\n",
       "    <tr>\n",
       "      <th>Sale Type_WD</th>\n",
       "      <td>2051.0</td>\n",
       "      <td>8.683569e-01</td>\n",
       "      <td>3.381848e-01</td>\n",
       "      <td>0.0</td>\n",
       "      <td>1.0</td>\n",
       "      <td>1.0</td>\n",
       "      <td>1.000000e+00</td>\n",
       "      <td>1.0</td>\n",
       "    </tr>\n",
       "  </tbody>\n",
       "</table>\n",
       "</div>"
      ],
      "text/plain": [
       "                    count          mean           std          min  \\\n",
       "Id                 2051.0  1.474034e+03  8.439808e+02          1.0   \n",
       "PID                2051.0  7.135900e+08  1.886918e+08  526301100.0   \n",
       "MS SubClass        2051.0  5.700878e+01  4.282422e+01         20.0   \n",
       "Lot Frontage       1721.0  6.905520e+01  2.326065e+01         21.0   \n",
       "Lot Area           2051.0  1.006521e+04  6.742489e+03       1300.0   \n",
       "Overall Qual       2051.0  6.112140e+00  1.426271e+00          1.0   \n",
       "Overall Cond       2051.0  5.562165e+00  1.104497e+00          1.0   \n",
       "Year Built         2051.0  1.971709e+03  3.017789e+01       1872.0   \n",
       "Year Remod/Add     2051.0  1.984190e+03  2.103625e+01       1950.0   \n",
       "Mas Vnr Area       2029.0  9.969591e+01  1.749631e+02          0.0   \n",
       "BsmtFin SF 1       2050.0  4.423005e+02  4.612041e+02          0.0   \n",
       "BsmtFin SF 2       2050.0  4.795902e+01  1.650009e+02          0.0   \n",
       "Bsmt Unf SF        2050.0  5.677283e+02  4.449548e+02          0.0   \n",
       "Total Bsmt SF      2050.0  1.057988e+03  4.494107e+02          0.0   \n",
       "1st Flr SF         2051.0  1.164488e+03  3.964469e+02        334.0   \n",
       "2nd Flr SF         2051.0  3.293291e+02  4.256710e+02          0.0   \n",
       "Low Qual Fin SF    2051.0  5.512921e+00  5.106887e+01          0.0   \n",
       "Gr Liv Area        2051.0  1.499330e+03  5.004478e+02        334.0   \n",
       "Bsmt Full Bath     2049.0  4.275256e-01  5.226732e-01          0.0   \n",
       "Bsmt Half Bath     2049.0  6.344558e-02  2.517052e-01          0.0   \n",
       "Full Bath          2051.0  1.577279e+00  5.492794e-01          0.0   \n",
       "Half Bath          2051.0  3.710385e-01  5.010427e-01          0.0   \n",
       "Bedroom AbvGr      2051.0  2.843491e+00  8.266183e-01          0.0   \n",
       "Kitchen AbvGr      2051.0  1.042906e+00  2.097900e-01          0.0   \n",
       "TotRms AbvGrd      2051.0  6.435885e+00  1.560225e+00          2.0   \n",
       "Fireplaces         2051.0  5.909313e-01  6.385163e-01          0.0   \n",
       "Garage Yr Blt      1937.0  1.978708e+03  2.544109e+01       1895.0   \n",
       "Garage Cars        2050.0  1.776585e+00  7.645374e-01          0.0   \n",
       "Garage Area        2050.0  4.736717e+02  2.159346e+02          0.0   \n",
       "Wood Deck SF       2051.0  9.383374e+01  1.285494e+02          0.0   \n",
       "Open Porch SF      2051.0  4.755680e+01  6.674724e+01          0.0   \n",
       "Enclosed Porch     2051.0  2.257192e+01  5.984511e+01          0.0   \n",
       "3Ssn Porch         2051.0  2.591419e+00  2.522961e+01          0.0   \n",
       "Screen Porch       2051.0  1.651146e+01  5.737420e+01          0.0   \n",
       "Pool Area          2051.0  2.397855e+00  3.778257e+01          0.0   \n",
       "Misc Val           2051.0  5.157435e+01  5.733940e+02          0.0   \n",
       "Mo Sold            2051.0  6.219893e+00  2.744736e+00          1.0   \n",
       "Yr Sold            2051.0  2.007776e+03  1.312014e+00       2006.0   \n",
       "SalePrice          2051.0  1.814697e+05  7.925866e+04      12789.0   \n",
       "Foundation_BrkTil  2051.0  1.077523e-01  3.101430e-01          0.0   \n",
       "Foundation_CBlock  2051.0  4.207704e-01  4.938032e-01          0.0   \n",
       "Foundation_PConc   2051.0  4.514871e-01  4.977623e-01          0.0   \n",
       "Foundation_Slab    2051.0  1.657728e-02  1.277123e-01          0.0   \n",
       "Foundation_Stone   2051.0  2.437835e-03  4.932625e-02          0.0   \n",
       "Foundation_Wood    2051.0  9.751341e-04  3.121952e-02          0.0   \n",
       "Sale Type_COD      2051.0  3.071672e-02  1.725912e-01          0.0   \n",
       "Sale Type_CWD      2051.0  4.875670e-03  6.967256e-02          0.0   \n",
       "Sale Type_Con      2051.0  1.950268e-03  4.412952e-02          0.0   \n",
       "Sale Type_ConLD    2051.0  8.288640e-03  9.068598e-02          0.0   \n",
       "Sale Type_ConLI    2051.0  3.412969e-03  5.833507e-02          0.0   \n",
       "Sale Type_ConLw    2051.0  2.437835e-03  4.932625e-02          0.0   \n",
       "Sale Type_New      2051.0  7.801073e-02  2.682539e-01          0.0   \n",
       "Sale Type_Oth      2051.0  1.950268e-03  4.412952e-02          0.0   \n",
       "Sale Type_WD       2051.0  8.683569e-01  3.381848e-01          0.0   \n",
       "\n",
       "                           25%          50%           75%          max  \n",
       "Id                       753.5       1486.0  2.198000e+03       2930.0  \n",
       "PID                528458140.0  535453200.0  9.071801e+08  924152030.0  \n",
       "MS SubClass               20.0         50.0  7.000000e+01        190.0  \n",
       "Lot Frontage              58.0         68.0  8.000000e+01        313.0  \n",
       "Lot Area                7500.0       9430.0  1.151350e+04     159000.0  \n",
       "Overall Qual               5.0          6.0  7.000000e+00         10.0  \n",
       "Overall Cond               5.0          5.0  6.000000e+00          9.0  \n",
       "Year Built              1953.5       1974.0  2.001000e+03       2010.0  \n",
       "Year Remod/Add          1964.5       1993.0  2.004000e+03       2010.0  \n",
       "Mas Vnr Area               0.0          0.0  1.610000e+02       1600.0  \n",
       "BsmtFin SF 1               0.0        368.0  7.337500e+02       5644.0  \n",
       "BsmtFin SF 2               0.0          0.0  0.000000e+00       1474.0  \n",
       "Bsmt Unf SF              220.0        474.5  8.110000e+02       2336.0  \n",
       "Total Bsmt SF            793.0        994.5  1.318750e+03       6110.0  \n",
       "1st Flr SF               879.5       1093.0  1.405000e+03       5095.0  \n",
       "2nd Flr SF                 0.0          0.0  6.925000e+02       1862.0  \n",
       "Low Qual Fin SF            0.0          0.0  0.000000e+00       1064.0  \n",
       "Gr Liv Area             1129.0       1444.0  1.728500e+03       5642.0  \n",
       "Bsmt Full Bath             0.0          0.0  1.000000e+00          3.0  \n",
       "Bsmt Half Bath             0.0          0.0  0.000000e+00          2.0  \n",
       "Full Bath                  1.0          2.0  2.000000e+00          4.0  \n",
       "Half Bath                  0.0          0.0  1.000000e+00          2.0  \n",
       "Bedroom AbvGr              2.0          3.0  3.000000e+00          8.0  \n",
       "Kitchen AbvGr              1.0          1.0  1.000000e+00          3.0  \n",
       "TotRms AbvGrd              5.0          6.0  7.000000e+00         15.0  \n",
       "Fireplaces                 0.0          1.0  1.000000e+00          4.0  \n",
       "Garage Yr Blt           1961.0       1980.0  2.002000e+03       2207.0  \n",
       "Garage Cars                1.0          2.0  2.000000e+00          5.0  \n",
       "Garage Area              319.0        480.0  5.760000e+02       1418.0  \n",
       "Wood Deck SF               0.0          0.0  1.680000e+02       1424.0  \n",
       "Open Porch SF              0.0         27.0  7.000000e+01        547.0  \n",
       "Enclosed Porch             0.0          0.0  0.000000e+00        432.0  \n",
       "3Ssn Porch                 0.0          0.0  0.000000e+00        508.0  \n",
       "Screen Porch               0.0          0.0  0.000000e+00        490.0  \n",
       "Pool Area                  0.0          0.0  0.000000e+00        800.0  \n",
       "Misc Val                   0.0          0.0  0.000000e+00      17000.0  \n",
       "Mo Sold                    4.0          6.0  8.000000e+00         12.0  \n",
       "Yr Sold                 2007.0       2008.0  2.009000e+03       2010.0  \n",
       "SalePrice             129825.0     162500.0  2.140000e+05     611657.0  \n",
       "Foundation_BrkTil          0.0          0.0  0.000000e+00          1.0  \n",
       "Foundation_CBlock          0.0          0.0  1.000000e+00          1.0  \n",
       "Foundation_PConc           0.0          0.0  1.000000e+00          1.0  \n",
       "Foundation_Slab            0.0          0.0  0.000000e+00          1.0  \n",
       "Foundation_Stone           0.0          0.0  0.000000e+00          1.0  \n",
       "Foundation_Wood            0.0          0.0  0.000000e+00          1.0  \n",
       "Sale Type_COD              0.0          0.0  0.000000e+00          1.0  \n",
       "Sale Type_CWD              0.0          0.0  0.000000e+00          1.0  \n",
       "Sale Type_Con              0.0          0.0  0.000000e+00          1.0  \n",
       "Sale Type_ConLD            0.0          0.0  0.000000e+00          1.0  \n",
       "Sale Type_ConLI            0.0          0.0  0.000000e+00          1.0  \n",
       "Sale Type_ConLw            0.0          0.0  0.000000e+00          1.0  \n",
       "Sale Type_New              0.0          0.0  0.000000e+00          1.0  \n",
       "Sale Type_Oth              0.0          0.0  0.000000e+00          1.0  \n",
       "Sale Type_WD               1.0          1.0  1.000000e+00          1.0  "
      ]
     },
     "execution_count": 8,
     "metadata": {},
     "output_type": "execute_result"
    }
   ],
   "source": [
    "# Further integrity check\n",
    "data.describe().T"
   ]
  },
  {
   "cell_type": "code",
   "execution_count": 9,
   "metadata": {},
   "outputs": [
    {
     "data": {
      "text/plain": [
       "SalePrice            1.000000\n",
       "Overall Qual         0.800207\n",
       "Gr Liv Area          0.697038\n",
       "Garage Area          0.650270\n",
       "Garage Cars          0.648220\n",
       "Total Bsmt SF        0.628925\n",
       "1st Flr SF           0.618486\n",
       "Year Built           0.571849\n",
       "Year Remod/Add       0.550370\n",
       "Full Bath            0.537969\n",
       "Garage Yr Blt        0.533922\n",
       "Foundation_PConc     0.529047\n",
       "Mas Vnr Area         0.512230\n",
       "TotRms AbvGrd        0.504014\n",
       "Fireplaces           0.471093\n",
       "BsmtFin SF 1         0.423519\n",
       "Sale Type_New        0.358102\n",
       "Lot Frontage         0.341842\n",
       "Open Porch SF        0.333476\n",
       "Wood Deck SF         0.326490\n",
       "Lot Area             0.296566\n",
       "Bsmt Full Bath       0.283662\n",
       "Half Bath            0.283001\n",
       "2nd Flr SF           0.248452\n",
       "Bsmt Unf SF          0.190210\n",
       "Bedroom AbvGr        0.137067\n",
       "Screen Porch         0.134581\n",
       "3Ssn Porch           0.048732\n",
       "Sale Type_Con        0.033660\n",
       "Mo Sold              0.032735\n",
       "Pool Area            0.023106\n",
       "Sale Type_ConLI      0.019588\n",
       "BsmtFin SF 2         0.016255\n",
       "Sale Type_CWD        0.004563\n",
       "Foundation_Wood     -0.003044\n",
       "Misc Val            -0.007375\n",
       "Yr Sold             -0.015203\n",
       "Foundation_Stone    -0.023853\n",
       "Sale Type_Oth       -0.030109\n",
       "Sale Type_ConLw     -0.035479\n",
       "Low Qual Fin SF     -0.041594\n",
       "Bsmt Half Bath      -0.045328\n",
       "Id                  -0.051398\n",
       "Sale Type_ConLD     -0.060431\n",
       "MS SubClass         -0.087335\n",
       "Overall Cond        -0.097019\n",
       "Sale Type_COD       -0.107600\n",
       "Foundation_Slab     -0.119052\n",
       "Kitchen AbvGr       -0.125444\n",
       "Enclosed Porch      -0.135656\n",
       "Sale Type_WD        -0.212542\n",
       "Foundation_BrkTil   -0.229891\n",
       "PID                 -0.255052\n",
       "Foundation_CBlock   -0.355535\n",
       "Name: SalePrice, dtype: float64"
      ]
     },
     "execution_count": 9,
     "metadata": {},
     "output_type": "execute_result"
    }
   ],
   "source": [
    "# Sort categorical correlations to sale price and sort\n",
    "data.corr()['SalePrice'].sort_values(ascending=False)"
   ]
  },
  {
   "cell_type": "markdown",
   "metadata": {},
   "source": [
    "#### Charts\n",
    "Helpful graphs to see patterns/outliers"
   ]
  },
  {
   "cell_type": "code",
   "execution_count": 10,
   "metadata": {},
   "outputs": [
    {
     "data": {
      "image/png": "[encoded data removed]",
      "text/plain": [
       "<matplotlib.figure.Figure at 0x103f6feb8>"
      ]
     },
     "metadata": {},
     "output_type": "display_data"
    }
   ],
   "source": [
    "# Check the distribution of target\n",
    "plt.hist(data['SalePrice']);"
   ]
  },
  {
   "cell_type": "code",
   "execution_count": 11,
   "metadata": {},
   "outputs": [],
   "source": [
    "# Since target is highly skewed, transforming it may facilitate better modeling\n",
    "# Maybe try a root transformation\n",
    "# data['SalePrice'] = np.log(data['SalePrice'])"
   ]
  },
  {
   "cell_type": "code",
   "execution_count": 12,
   "metadata": {},
   "outputs": [
    {
     "data": {
      "image/png": "[encoded data removed]",
      "text/plain": [
       "<matplotlib.figure.Figure at 0x1a0a16add8>"
      ]
     },
     "metadata": {},
     "output_type": "display_data"
    }
   ],
   "source": [
    "sns.regplot(x=data['Overall Qual'], y=data['SalePrice']);"
   ]
  },
  {
   "cell_type": "code",
   "execution_count": 13,
   "metadata": {},
   "outputs": [
    {
     "data": {
      "image/png": "[encoded data removed]",
      "text/plain": [
       "<matplotlib.figure.Figure at 0x1a0ad30630>"
      ]
     },
     "metadata": {},
     "output_type": "display_data"
    }
   ],
   "source": [
    "sns.regplot(x=data['Gr Liv Area'], y=data['SalePrice']);"
   ]
  },
  {
   "cell_type": "code",
   "execution_count": 14,
   "metadata": {
    "scrolled": true
   },
   "outputs": [
    {
     "data": {
      "text/html": [
       "<div>\n",
       "<style scoped>\n",
       "    .dataframe tbody tr th:only-of-type {\n",
       "        vertical-align: middle;\n",
       "    }\n",
       "\n",
       "    .dataframe tbody tr th {\n",
       "        vertical-align: top;\n",
       "    }\n",
       "\n",
       "    .dataframe thead th {\n",
       "        text-align: right;\n",
       "    }\n",
       "</style>\n",
       "<table border=\"1\" class=\"dataframe\">\n",
       "  <thead>\n",
       "    <tr style=\"text-align: right;\">\n",
       "      <th></th>\n",
       "      <th>Id</th>\n",
       "      <th>PID</th>\n",
       "      <th>MS SubClass</th>\n",
       "      <th>MS Zoning</th>\n",
       "      <th>Lot Frontage</th>\n",
       "      <th>Lot Area</th>\n",
       "      <th>Street</th>\n",
       "      <th>Alley</th>\n",
       "      <th>Lot Shape</th>\n",
       "      <th>Land Contour</th>\n",
       "      <th>...</th>\n",
       "      <th>Foundation_Wood</th>\n",
       "      <th>Sale Type_COD</th>\n",
       "      <th>Sale Type_CWD</th>\n",
       "      <th>Sale Type_Con</th>\n",
       "      <th>Sale Type_ConLD</th>\n",
       "      <th>Sale Type_ConLI</th>\n",
       "      <th>Sale Type_ConLw</th>\n",
       "      <th>Sale Type_New</th>\n",
       "      <th>Sale Type_Oth</th>\n",
       "      <th>Sale Type_WD</th>\n",
       "    </tr>\n",
       "  </thead>\n",
       "  <tbody>\n",
       "    <tr>\n",
       "      <th>960</th>\n",
       "      <td>1499</td>\n",
       "      <td>908154235</td>\n",
       "      <td>60</td>\n",
       "      <td>RL</td>\n",
       "      <td>313.0</td>\n",
       "      <td>63887</td>\n",
       "      <td>Pave</td>\n",
       "      <td>NaN</td>\n",
       "      <td>IR3</td>\n",
       "      <td>Bnk</td>\n",
       "      <td>...</td>\n",
       "      <td>0</td>\n",
       "      <td>0</td>\n",
       "      <td>0</td>\n",
       "      <td>0</td>\n",
       "      <td>0</td>\n",
       "      <td>0</td>\n",
       "      <td>0</td>\n",
       "      <td>1</td>\n",
       "      <td>0</td>\n",
       "      <td>0</td>\n",
       "    </tr>\n",
       "    <tr>\n",
       "      <th>1885</th>\n",
       "      <td>2181</td>\n",
       "      <td>908154195</td>\n",
       "      <td>20</td>\n",
       "      <td>RL</td>\n",
       "      <td>128.0</td>\n",
       "      <td>39290</td>\n",
       "      <td>Pave</td>\n",
       "      <td>NaN</td>\n",
       "      <td>IR1</td>\n",
       "      <td>Bnk</td>\n",
       "      <td>...</td>\n",
       "      <td>0</td>\n",
       "      <td>0</td>\n",
       "      <td>0</td>\n",
       "      <td>0</td>\n",
       "      <td>0</td>\n",
       "      <td>0</td>\n",
       "      <td>0</td>\n",
       "      <td>1</td>\n",
       "      <td>0</td>\n",
       "      <td>0</td>\n",
       "    </tr>\n",
       "  </tbody>\n",
       "</table>\n",
       "<p>2 rows × 94 columns</p>\n",
       "</div>"
      ],
      "text/plain": [
       "        Id        PID  MS SubClass MS Zoning  Lot Frontage  Lot Area Street  \\\n",
       "960   1499  908154235           60        RL         313.0     63887   Pave   \n",
       "1885  2181  908154195           20        RL         128.0     39290   Pave   \n",
       "\n",
       "     Alley Lot Shape Land Contour      ...       Foundation_Wood  \\\n",
       "960    NaN       IR3          Bnk      ...                     0   \n",
       "1885   NaN       IR1          Bnk      ...                     0   \n",
       "\n",
       "     Sale Type_COD Sale Type_CWD Sale Type_Con Sale Type_ConLD  \\\n",
       "960              0             0             0               0   \n",
       "1885             0             0             0               0   \n",
       "\n",
       "     Sale Type_ConLI Sale Type_ConLw Sale Type_New  Sale Type_Oth  \\\n",
       "960                0               0             1              0   \n",
       "1885               0               0             1              0   \n",
       "\n",
       "      Sale Type_WD   \n",
       "960               0  \n",
       "1885              0  \n",
       "\n",
       "[2 rows x 94 columns]"
      ]
     },
     "execution_count": 14,
     "metadata": {},
     "output_type": "execute_result"
    }
   ],
   "source": [
    "data[data['Gr Liv Area'] > 4000]\n",
    "# Per results below, will drop outliers by ID 960 and 1885b"
   ]
  },
  {
   "cell_type": "code",
   "execution_count": 15,
   "metadata": {},
   "outputs": [
    {
     "data": {
      "text/html": [
       "<div>\n",
       "<style scoped>\n",
       "    .dataframe tbody tr th:only-of-type {\n",
       "        vertical-align: middle;\n",
       "    }\n",
       "\n",
       "    .dataframe tbody tr th {\n",
       "        vertical-align: top;\n",
       "    }\n",
       "\n",
       "    .dataframe thead th {\n",
       "        text-align: right;\n",
       "    }\n",
       "</style>\n",
       "<table border=\"1\" class=\"dataframe\">\n",
       "  <thead>\n",
       "    <tr style=\"text-align: right;\">\n",
       "      <th></th>\n",
       "      <th>Id</th>\n",
       "      <th>PID</th>\n",
       "      <th>MS SubClass</th>\n",
       "      <th>MS Zoning</th>\n",
       "      <th>Lot Frontage</th>\n",
       "      <th>Lot Area</th>\n",
       "      <th>Street</th>\n",
       "      <th>Alley</th>\n",
       "      <th>Lot Shape</th>\n",
       "      <th>Land Contour</th>\n",
       "      <th>...</th>\n",
       "      <th>Foundation_Wood</th>\n",
       "      <th>Sale Type_COD</th>\n",
       "      <th>Sale Type_CWD</th>\n",
       "      <th>Sale Type_Con</th>\n",
       "      <th>Sale Type_ConLD</th>\n",
       "      <th>Sale Type_ConLI</th>\n",
       "      <th>Sale Type_ConLw</th>\n",
       "      <th>Sale Type_New</th>\n",
       "      <th>Sale Type_Oth</th>\n",
       "      <th>Sale Type_WD</th>\n",
       "    </tr>\n",
       "  </thead>\n",
       "  <tbody>\n",
       "  </tbody>\n",
       "</table>\n",
       "<p>0 rows × 94 columns</p>\n",
       "</div>"
      ],
      "text/plain": [
       "Empty DataFrame\n",
       "Columns: [Id, PID, MS SubClass, MS Zoning, Lot Frontage, Lot Area, Street, Alley, Lot Shape, Land Contour, Utilities, Lot Config, Land Slope, Neighborhood, Condition 1, Condition 2, Bldg Type, House Style, Overall Qual, Overall Cond, Year Built, Year Remod/Add, Roof Style, Roof Matl, Exterior 1st, Exterior 2nd, Mas Vnr Type, Mas Vnr Area, Exter Qual, Exter Cond, Bsmt Qual, Bsmt Cond, Bsmt Exposure, BsmtFin Type 1, BsmtFin SF 1, BsmtFin Type 2, BsmtFin SF 2, Bsmt Unf SF, Total Bsmt SF, Heating, Heating QC, Central Air, Electrical, 1st Flr SF, 2nd Flr SF, Low Qual Fin SF, Gr Liv Area, Bsmt Full Bath, Bsmt Half Bath, Full Bath, Half Bath, Bedroom AbvGr, Kitchen AbvGr, Kitchen Qual, TotRms AbvGrd, Functional, Fireplaces, Fireplace Qu, Garage Type, Garage Yr Blt, Garage Finish, Garage Cars, Garage Area, Garage Qual, Garage Cond, Paved Drive, Wood Deck SF, Open Porch SF, Enclosed Porch, 3Ssn Porch, Screen Porch, Pool Area, Pool QC, Fence, Misc Feature, Misc Val, Mo Sold, Yr Sold, SalePrice, Foundation_BrkTil, Foundation_CBlock, Foundation_PConc, Foundation_Slab, Foundation_Stone, Foundation_Wood, Sale Type_COD, Sale Type_CWD, Sale Type_Con, Sale Type_ConLD, Sale Type_ConLI, Sale Type_ConLw, Sale Type_New, Sale Type_Oth, Sale Type_WD ]\n",
       "Index: []\n",
       "\n",
       "[0 rows x 94 columns]"
      ]
     },
     "execution_count": 15,
     "metadata": {},
     "output_type": "execute_result"
    }
   ],
   "source": [
    "data[(data['SalePrice'] < 10) & (data['Gr Liv Area'] < 1000)]\n",
    "# Also dropping outliers at 183 and 1628"
   ]
  },
  {
   "cell_type": "code",
   "execution_count": 16,
   "metadata": {},
   "outputs": [],
   "source": [
    "data.drop([183, 960, 1628, 1885, 1699], inplace=True)"
   ]
  },
  {
   "cell_type": "code",
   "execution_count": 17,
   "metadata": {
    "scrolled": true
   },
   "outputs": [
    {
     "data": {
      "image/png": "[encoded data removed]",
      "text/plain": [
       "<matplotlib.figure.Figure at 0x1a13cfd5c0>"
      ]
     },
     "metadata": {},
     "output_type": "display_data"
    }
   ],
   "source": [
    "sns.regplot(x=data['Garage Area'], y=data['SalePrice']);"
   ]
  },
  {
   "cell_type": "code",
   "execution_count": 18,
   "metadata": {
    "scrolled": true
   },
   "outputs": [
    {
     "data": {
      "image/png": "[encoded data removed]",
      "text/plain": [
       "<matplotlib.figure.Figure at 0x1a13ed2470>"
      ]
     },
     "metadata": {},
     "output_type": "display_data"
    }
   ],
   "source": [
    "sns.regplot(x=data['Total Bsmt SF'], y=data['SalePrice']);"
   ]
  },
  {
   "cell_type": "code",
   "execution_count": 19,
   "metadata": {},
   "outputs": [
    {
     "data": {
      "image/png": "[encoded data removed]",
      "text/plain": [
       "<matplotlib.figure.Figure at 0x1a0a2f27b8>"
      ]
     },
     "metadata": {},
     "output_type": "display_data"
    }
   ],
   "source": [
    "sns.regplot(x=data['Year Built'], y=np.log(data['SalePrice']));"
   ]
  },
  {
   "cell_type": "code",
   "execution_count": 20,
   "metadata": {},
   "outputs": [
    {
     "data": {
      "image/png": "[encoded data removed]",
      "text/plain": [
       "<matplotlib.figure.Figure at 0x1a1403ea58>"
      ]
     },
     "metadata": {},
     "output_type": "display_data"
    }
   ],
   "source": [
    "sns.regplot(x=data['Mas Vnr Area'], y=data['SalePrice']);"
   ]
  },
  {
   "cell_type": "code",
   "execution_count": 21,
   "metadata": {},
   "outputs": [
    {
     "data": {
      "image/png": "[encoded data removed]",
      "text/plain": [
       "<matplotlib.figure.Figure at 0x1a1400d2e8>"
      ]
     },
     "metadata": {},
     "output_type": "display_data"
    }
   ],
   "source": [
    "sns.regplot(x=data['Lot Frontage'], y=data['SalePrice']);"
   ]
  },
  {
   "cell_type": "markdown",
   "metadata": {},
   "source": [
    "## Feature Engineering"
   ]
  },
  {
   "cell_type": "markdown",
   "metadata": {},
   "source": [
    "#### Total SF\n",
    "Creating a new feature that is the combination of all square footages, that is, basement, above ground, and garage square footage. It has a high correlation to the target and will be put in the model."
   ]
  },
  {
   "cell_type": "code",
   "execution_count": 23,
   "metadata": {},
   "outputs": [
    {
     "data": {
      "text/plain": [
       "nan"
      ]
     },
     "execution_count": 23,
     "metadata": {},
     "output_type": "execute_result"
    },
    {
     "data": {
      "image/png": "[encoded data removed]",
      "text/plain": [
       "<matplotlib.figure.Figure at 0x1a0a2f20f0>"
      ]
     },
     "metadata": {},
     "output_type": "display_data"
    }
   ],
   "source": [
    "# Function to engineer this feature for a given df\n",
    "def total_sf(df):   \n",
    "    df['Total SF'] = df['Total Bsmt SF'] + df['Gr Liv Area'] \\\n",
    "    + df['Garage Area']\n",
    "    \n",
    "total_sf(data)\n",
    "sns.regplot(data['Total SF'], data['SalePrice']);\n",
    "np.corrcoef(data['Total SF'], data['SalePrice'])[0][1]"
   ]
  },
  {
   "cell_type": "markdown",
   "metadata": {},
   "source": [
    "#### Outside SF\n",
    "Check the power of summing outdoor square footage"
   ]
  },
  {
   "cell_type": "code",
   "execution_count": 24,
   "metadata": {
    "scrolled": true
   },
   "outputs": [
    {
     "data": {
      "text/plain": [
       "0.4391775063432711"
      ]
     },
     "execution_count": 24,
     "metadata": {},
     "output_type": "execute_result"
    },
    {
     "data": {
      "image/png": "[encoded data removed]",
      "text/plain": [
       "<matplotlib.figure.Figure at 0x1a13efdd30>"
      ]
     },
     "metadata": {},
     "output_type": "display_data"
    }
   ],
   "source": [
    "def outside_sf(df):\n",
    "    df['Outside SF'] = df['Open Porch SF'] + df['Wood Deck SF']\n",
    "    \n",
    "outside_sf(data)\n",
    "sns.regplot(data['Outside SF'], data['SalePrice']);\n",
    "np.corrcoef(data['Outside SF'], data['SalePrice'])[0][1]"
   ]
  },
  {
   "cell_type": "markdown",
   "metadata": {},
   "source": [
    "#### Age\n",
    "Look at the combination of Year Built and Year Add/Remod"
   ]
  },
  {
   "cell_type": "code",
   "execution_count": 25,
   "metadata": {},
   "outputs": [
    {
     "data": {
      "text/plain": [
       "0.6220053385708632"
      ]
     },
     "execution_count": 25,
     "metadata": {},
     "output_type": "execute_result"
    },
    {
     "data": {
      "image/png": "[encoded data removed]",
      "text/plain": [
       "<matplotlib.figure.Figure at 0x1a13ee8780>"
      ]
     },
     "metadata": {},
     "output_type": "display_data"
    }
   ],
   "source": [
    "def age_score(df):\n",
    "    df['Age'] = df['Year Built']*df['Year Remod/Add']\n",
    "    \n",
    "age_score(data)\n",
    "sns.regplot(data['Age'], data['SalePrice']);\n",
    "np.corrcoef(data['Age'], data['SalePrice'])[0][1]"
   ]
  },
  {
   "cell_type": "markdown",
   "metadata": {},
   "source": [
    "#### Luxury Count\n",
    "Combine select luxury indicating features"
   ]
  },
  {
   "cell_type": "code",
   "execution_count": 26,
   "metadata": {},
   "outputs": [
    {
     "name": "stderr",
     "output_type": "stream",
     "text": [
      "/anaconda3/lib/python3.6/site-packages/ipykernel_launcher.py:2: FutureWarning: set_value is deprecated and will be removed in a future release. Please use .at[] or .iat[] accessors instead\n",
      "  \n",
      "/anaconda3/lib/python3.6/site-packages/ipykernel_launcher.py:3: FutureWarning: set_value is deprecated and will be removed in a future release. Please use .at[] or .iat[] accessors instead\n",
      "  This is separate from the ipykernel package so we can avoid doing imports until\n"
     ]
    }
   ],
   "source": [
    "# Fix a null value in one entry based on other similar entries\n",
    "data = data.set_value(616, 'Bsmt Half Bath', 0)\n",
    "data = data.set_value(616, 'Bsmt Full Bath', 0)"
   ]
  },
  {
   "cell_type": "code",
   "execution_count": 27,
   "metadata": {},
   "outputs": [
    {
     "data": {
      "text/plain": [
       "nan"
      ]
     },
     "execution_count": 27,
     "metadata": {},
     "output_type": "execute_result"
    },
    {
     "data": {
      "image/png": "[encoded data removed]",
      "text/plain": [
       "<matplotlib.figure.Figure at 0x1a13ee85c0>"
      ]
     },
     "metadata": {},
     "output_type": "display_data"
    }
   ],
   "source": [
    "def luxury_sum(df):\n",
    "    df['Luxury Count'] = df['Fireplaces'] \\\n",
    "    + df['Bsmt Full Bath'] + df['Bsmt Half Bath'] + \\\n",
    "    df['Full Bath'] + df['Half Bath'] + df['Garage Cars']\n",
    "    \n",
    "luxury_sum(data)\n",
    "sns.regplot(data['Luxury Count'], data['SalePrice']);\n",
    "np.corrcoef(data['Luxury Count'], data['SalePrice'])[0][1]"
   ]
  },
  {
   "cell_type": "markdown",
   "metadata": {},
   "source": [
    "#### Basement Quality\n",
    "Turning this into an ordinal feature improved it's correlation with the target by approximately 10%, it should be used."
   ]
  },
  {
   "cell_type": "code",
   "execution_count": 29,
   "metadata": {},
   "outputs": [],
   "source": [
    "# Turns the basement quality feature into an ordinal array\n",
    "def score_basement(row):\n",
    "    # Feature that will be transformed\n",
    "    source = 'Bsmt Qual'\n",
    "    \n",
    "    if row[source] == 'Ex': # Excellent (100+ inches)\n",
    "        return 5\n",
    "    elif row[source] == 'Gd': # Good (90-99 inches)\n",
    "        return 4\n",
    "    elif row[source] == 'TA': # Typical (80-89 inches)\n",
    "        return 3\n",
    "    elif row[source] == 'Fa': # Fair (70-79 inches)\n",
    "        return 2\n",
    "    elif row[source] == 'Po': # Poor (<70 inches)\n",
    "        return 1\n",
    "    else: # No Basement\n",
    "        return 0"
   ]
  },
  {
   "cell_type": "code",
   "execution_count": 30,
   "metadata": {},
   "outputs": [
    {
     "data": {
      "text/plain": [
       "0.6114223840734092"
      ]
     },
     "execution_count": 30,
     "metadata": {},
     "output_type": "execute_result"
    },
    {
     "data": {
      "image/png": "[encoded data removed]",
      "text/plain": [
       "<matplotlib.figure.Figure at 0x1a13ee8128>"
      ]
     },
     "metadata": {},
     "output_type": "display_data"
    }
   ],
   "source": [
    "# Functionalize the feature engineering for later call of test df\n",
    "def ordinal_bsmt_qual(df):\n",
    "    df['Ordinal Bsmt Qual'] = df.apply(score_basement, axis=1)\n",
    "    \n",
    "ordinal_bsmt_qual(data)\n",
    "\n",
    "sns.regplot(data['Ordinal Bsmt Qual'], data['SalePrice']);\n",
    "np.corrcoef(data['Ordinal Bsmt Qual'],data['SalePrice'])[0][1]"
   ]
  },
  {
   "cell_type": "markdown",
   "metadata": {},
   "source": [
    "#### Neighborhood Quality\n",
    "Bin the neighborhoods by their correlation with SalePrice, good feature, will keep"
   ]
  },
  {
   "cell_type": "code",
   "execution_count": 31,
   "metadata": {},
   "outputs": [],
   "source": [
    "# Bin neighborhoods by correlation with SalePrice\n",
    "def score_neighborhoods(row):\n",
    "    \n",
    "    source = 'Neighborhood'\n",
    "    \n",
    "    excellent = ['NridgHt']\n",
    "    good = ['CollgCr', 'NoRidge', 'Somerst', 'StoneBr', 'Timber']\n",
    "    okay = ['ClearCr', 'Crawfor', 'Gilbert', 'Greens', 'GrnHill', 'NWAmes', 'SawyerW', 'Veenker']\n",
    "    bad = ['Blueste', 'Landmrk', 'Mitchel', 'NPkVill', 'SWISU']\n",
    "    \n",
    "    if row[source] in excellent:\n",
    "        return 4\n",
    "    if row[source] in good:\n",
    "        return 3\n",
    "    elif row[source] in okay:\n",
    "        return 2\n",
    "    elif row[source] in bad:\n",
    "        return 1\n",
    "    else:\n",
    "        return 0"
   ]
  },
  {
   "cell_type": "code",
   "execution_count": 32,
   "metadata": {},
   "outputs": [
    {
     "data": {
      "text/plain": [
       "0.6768233934162604"
      ]
     },
     "execution_count": 32,
     "metadata": {},
     "output_type": "execute_result"
    },
    {
     "data": {
      "image/png": "[encoded data removed]",
      "text/plain": [
       "<matplotlib.figure.Figure at 0x1a1479e7f0>"
      ]
     },
     "metadata": {},
     "output_type": "display_data"
    }
   ],
   "source": [
    "# Turn neighborhoods into ordinal array\n",
    "def ordinal_neighborhood_qual(df):    \n",
    "    df['Ordinal Neighborhood Qual'] = df.apply(score_neighborhoods, axis=1)\n",
    "    \n",
    "ordinal_neighborhood_qual(data)\n",
    "\n",
    "sns.regplot(data['Ordinal Neighborhood Qual'], data['SalePrice']);\n",
    "np.corrcoef(data['Ordinal Neighborhood Qual'], data['SalePrice'])[0][1]"
   ]
  },
  {
   "cell_type": "markdown",
   "metadata": {},
   "source": [
    "#### Exterior Quality\n",
    "Capture value of exterior quality, bin, and check correlation to price"
   ]
  },
  {
   "cell_type": "code",
   "execution_count": 34,
   "metadata": {},
   "outputs": [],
   "source": [
    "def score_exterior_qual(row):\n",
    "    \n",
    "    source = 'Exter Qual'\n",
    "    \n",
    "    if row[source] == 'Ex': # Excellent\n",
    "        return 4\n",
    "    elif row[source] == 'Gd': # Good\n",
    "        return 3\n",
    "    elif row[source] == 'TA': # Average/Typical\n",
    "        return 2\n",
    "    elif row[source] == 'Fa': # Fair\n",
    "        return 1\n",
    "    else: # Poor\n",
    "        return 0"
   ]
  },
  {
   "cell_type": "code",
   "execution_count": 35,
   "metadata": {},
   "outputs": [
    {
     "data": {
      "text/plain": [
       "0.7143536604430512"
      ]
     },
     "execution_count": 35,
     "metadata": {},
     "output_type": "execute_result"
    },
    {
     "data": {
      "image/png": "[encoded data removed]",
      "text/plain": [
       "<matplotlib.figure.Figure at 0x1a14799908>"
      ]
     },
     "metadata": {},
     "output_type": "display_data"
    }
   ],
   "source": [
    "def ordinal_exterior_qual(df):   \n",
    "    df['Ordinal Exterior Qual'] = df.apply(score_exterior_qual, axis=1)\n",
    "    \n",
    "ordinal_exterior_qual(data)\n",
    "\n",
    "sns.regplot(data['Ordinal Exterior Qual'], data['SalePrice']);\n",
    "np.corrcoef(data['Ordinal Exterior Qual'], data['SalePrice'])[0][1]"
   ]
  },
  {
   "cell_type": "code",
   "execution_count": 36,
   "metadata": {},
   "outputs": [],
   "source": [
    "# Bin styles and materials with dict of their correlation to price\n",
    "def score_styles(row):\n",
    "    \n",
    "    styles_dict = {\n",
    "        'HouseStyle' : {\n",
    "            '1.5Fin': -0.19568204535543707,\n",
    "            '1.5Unf': -0.06713383194105647,\n",
    "            '1Story': -0.020765133505871145,\n",
    "            '2.5Fin': 0.04317059813780296,\n",
    "            '2.5Unf': 0.01125858864563097,\n",
    "            '2Story': 0.20216237328770031,\n",
    "            'SFoyer': -0.06404586858798751,\n",
    "            'SLvl': -0.04132323931979004\n",
    "        },\n",
    "        'RoofStyle': {\n",
    "            'Flat': 0.010268929725445256,\n",
    "            'Gable': -0.2514676382921077,\n",
    "            'Gambrel': -0.04196560656920938,\n",
    "            'Hip': 0.26750389170540667,\n",
    "            'Mansard': -0.021246406846898963,\n",
    "            'Shed': 0.013431549065890456\n",
    "        },\n",
    "        'RoofMatl': {\n",
    "            'CompShg': -0.07285630757996234,\n",
    "            'Membran': 0.016992654873356872,\n",
    "            'Tar&Grv': 0.007459424093174841,\n",
    "            'WdShake': 0.04682720116569266,\n",
    "            'WdShngl': 0.09971353154839525,\n",
    "            'Metal': 0.0, # Added manually\n",
    "            'Roll': 0.0 # Added manually\n",
    "        },\n",
    "        'Exterior1st': {\n",
    "            'AsbShng': -0.12630933038607453,\n",
    "            'AsphShn': -0.027797151531158554,\n",
    "            'BrkComm': -0.024452025707541503,\n",
    "            'BrkFace': 0.027281128597469274,\n",
    "            'CBlock': -0.034990787735149756,\n",
    "            'CemntBd': 0.16794055767356478,\n",
    "            'HdBoard': -0.11380169807999747,\n",
    "            'ImStucc': 0.022762904873624375,\n",
    "            'MetalSd': -0.1480807076941425,\n",
    "            'Plywood': -0.038307633401335875,\n",
    "            'Stone': 0.03080599425034965,\n",
    "            'Stucco': -0.06094172468616997,\n",
    "            'VinylSd': 0.34081608210638753,\n",
    "            'Wd Sdng': -0.19251682864323647,\n",
    "            'WdShing': -0.05477297318849323,\n",
    "            'PreCast': 0.0 # Added manually\n",
    "        }\n",
    "    }\n",
    "    \n",
    "    score_house_style = styles_dict['HouseStyle'][row['House Style']]\n",
    "    score_roof_style = styles_dict['RoofStyle'][row['Roof Style']]\n",
    "    score_roof_matl = styles_dict['RoofMatl'][row['Roof Matl']]\n",
    "    score_exterior1 = styles_dict['Exterior1st'][row['Exterior 1st']]\n",
    "    \n",
    "    score = score_house_style + score_roof_style + score_roof_matl + score_exterior1\n",
    "    \n",
    "    if score >= 0.6:\n",
    "        return 7\n",
    "    elif score >= 0.4 and score < 0.6:\n",
    "        return 6\n",
    "    elif score >= 0.2 and score < 0.4:\n",
    "        return 5\n",
    "    elif score >= 0.2 and score < 0.4:\n",
    "        return 6\n",
    "    \n",
    "    elif score >= 0.0 and score < 0.2:\n",
    "        return 4\n",
    "    elif score < 0.0 and score > -0.2:\n",
    "        return 3\n",
    "    \n",
    "    elif score <= -0.2 and score > -0.4:\n",
    "        return 2\n",
    "    elif score <= -0.4 and score > -0.6:\n",
    "        return 1\n",
    "    elif score <= -0.4 and score > -0.6:\n",
    "        return 1\n",
    "    else:\n",
    "        return 0"
   ]
  },
  {
   "cell_type": "code",
   "execution_count": 37,
   "metadata": {},
   "outputs": [
    {
     "data": {
      "text/plain": [
       "0.5050608292370385"
      ]
     },
     "execution_count": 37,
     "metadata": {},
     "output_type": "execute_result"
    },
    {
     "data": {
      "image/png": "[encoded data removed]",
      "text/plain": [
       "<matplotlib.figure.Figure at 0x1a147664a8>"
      ]
     },
     "metadata": {},
     "output_type": "display_data"
    }
   ],
   "source": [
    "def qualitative_scoring(df):\n",
    "    df['Qualitative'] = df.apply(score_styles, axis=1)\n",
    "    \n",
    "qualitative_scoring(data)\n",
    "\n",
    "sns.regplot(data['Qualitative'], data['SalePrice']);\n",
    "np.corrcoef(data['Qualitative'], data['SalePrice'])[0][1]"
   ]
  },
  {
   "cell_type": "markdown",
   "metadata": {},
   "source": [
    "#### Utilities\n",
    "Feature to capture the value of respective utilities"
   ]
  },
  {
   "cell_type": "code",
   "execution_count": 38,
   "metadata": {},
   "outputs": [],
   "source": [
    "def score_utilities(row):  \n",
    "    utilities_dict = {\n",
    "        'HeatingQC': {\n",
    "            'Ex': 0.45297886270094606,\n",
    "            'TA': -0.34333562552430424,\n",
    "            'Gd': -0.1151493460646094,\n",
    "            'Fa': -0.14917392568000912,\n",
    "            'Po': -0.05430306691397665\n",
    "        },\n",
    "        'CentralAir': {\n",
    "            'Y': 0.2773186063067728,\n",
    "            'N': -0.27731860630677274\n",
    "        }\n",
    "    }\n",
    "    \n",
    "    score_heating_qc = utilities_dict['HeatingQC'][row['Heating QC']]\n",
    "    score_central_air = utilities_dict['CentralAir'][row['Central Air']]\n",
    "    \n",
    "    score = score_heating_qc + score_central_air\n",
    "    \n",
    "    if score >= 0.6:\n",
    "        return 7\n",
    "    elif score >= 0.4 and score < 0.6:\n",
    "        return 6\n",
    "    elif score >= 0.2 and score < 0.4:\n",
    "        return 5\n",
    "    elif score >= 0.2 and score < 0.4:\n",
    "        return 6\n",
    "    \n",
    "    elif score >= 0.0 and score < 0.2:\n",
    "        return 4\n",
    "    elif score < 0.0 and score > -0.2:\n",
    "        return 3\n",
    "    \n",
    "    elif score <= -0.2 and score > -0.4:\n",
    "        return 2\n",
    "    elif score <= -0.4 and score > -0.6:\n",
    "        return 1\n",
    "    elif score <= -0.4 and score > -0.6:\n",
    "        return 1\n",
    "    else:\n",
    "        return 0\n",
    "    "
   ]
  },
  {
   "cell_type": "code",
   "execution_count": 39,
   "metadata": {},
   "outputs": [
    {
     "data": {
      "text/plain": [
       "0.4878995514306871"
      ]
     },
     "execution_count": 39,
     "metadata": {},
     "output_type": "execute_result"
    },
    {
     "data": {
      "image/png": "[encoded data removed]",
      "text/plain": [
       "<matplotlib.figure.Figure at 0x1a14bb4588>"
      ]
     },
     "metadata": {},
     "output_type": "display_data"
    }
   ],
   "source": [
    "def utilities(df):\n",
    "    df['Utilities'] = df.apply(score_utilities, axis=1)\n",
    "    \n",
    "utilities(data)\n",
    "\n",
    "sns.regplot(data['Utilities'], data['SalePrice']);\n",
    "np.corrcoef(data['Utilities'], data['SalePrice'])[0][1]"
   ]
  },
  {
   "cell_type": "markdown",
   "metadata": {},
   "source": [
    "#### Feature Transform\n",
    "Master function to keep features for transforming collected, so they can be called later to transform the unseen test data"
   ]
  },
  {
   "cell_type": "code",
   "execution_count": 40,
   "metadata": {},
   "outputs": [],
   "source": [
    "# Use this on test df to ensure same features are transformed\n",
    "def transform_features(df):\n",
    "    total_sf(df)\n",
    "    ordinal_bsmt_qual(df)\n",
    "    ordinal_neighborhood_qual(df)\n",
    "    ordinal_exterior_qual(df)\n",
    "    luxury_sum(df)\n",
    "    outside_sf(df)\n",
    "    qualitative_scoring(df)\n",
    "    age_score(df)\n",
    "    utilities(df)"
   ]
  },
  {
   "cell_type": "markdown",
   "metadata": {},
   "source": [
    "#### <font color=grey> Feature Selection Function\n",
    "<font color=grey>Messing around mostly, could be useful for fast, dirty, simple models without regulatization."
   ]
  },
  {
   "cell_type": "code",
   "execution_count": 41,
   "metadata": {},
   "outputs": [],
   "source": [
    "# Make this work with dfs, have it output lr scores so it can be plotter\n",
    "# over different corr and coln thresholds\n",
    "def select_features(df, target, corr_thresh, coln_thresh):\n",
    "    \n",
    "    # Create a new df of features against SalePrice\n",
    "    corr_df = data.corr()[[target]]\n",
    "    # Update the df for only features above the correlation threshold\n",
    "    corr_df = corr_df[corr_df[target] >= corr_thresh]\n",
    "    \n",
    "    # Create a coln df that only considers features that passed above test\n",
    "    coln_df = df[corr_df.index]\n",
    "    # Create a list of features to conditionally remove\n",
    "    features = list(coln_df.columns[:])\n",
    "    \n",
    "    # Loop through each feature to compare vs other features\n",
    "    for i in coln_df.columns:\n",
    "        # Loop through each feature\n",
    "        for j in coln_df.columns:\n",
    "            # If reflexive or vs target, move on\n",
    "            if i == j or j == target:\n",
    "                pass\n",
    "            # Check if colinearity between i and j features is over threshold\n",
    "            elif np.corrcoef(coln_df[i], coln_df[j])[0][1] >= coln_thresh:\n",
    "                # Set the i or j feature with lower correlation to target to drop\n",
    "                if np.corrcoef(coln_df[i], coln_df[target])[0][1] \\\n",
    "                > np.corrcoef(coln_df[j], coln_df[target])[0][1]:\n",
    "                    #features.drop(labels=j, axis=1, inplace=True)\n",
    "                    try:\n",
    "                        features.remove(j)\n",
    "                    except:\n",
    "                        pass\n",
    "    \n",
    "    # Remove the target from the feature list\n",
    "    features.remove(target)\n",
    "    \n",
    "    return features"
   ]
  },
  {
   "cell_type": "code",
   "execution_count": 42,
   "metadata": {},
   "outputs": [],
   "source": [
    "# Select features from df given, against target given, by thresholds specified\n",
    "# proposed_features = select_features(df=data, \n",
    "#                            target='SalePrice', \n",
    "#                            corr_thresh=0.4, \n",
    "#                            coln_thresh=0.7)\n",
    "\n",
    "# proposed_features"
   ]
  },
  {
   "cell_type": "markdown",
   "metadata": {},
   "source": [
    "#### Select Features\n",
    "Manually selecting features to optimize model accuracy"
   ]
  },
  {
   "cell_type": "code",
   "execution_count": 43,
   "metadata": {},
   "outputs": [],
   "source": [
    "# List of features to try, organized by general domain\n",
    "features = [\n",
    "    # Continuous Quality\n",
    "    'Overall Qual',\n",
    "    \n",
    "    # Continuous Value\n",
    "    'Mas Vnr Area',\n",
    "#     'Lot Frontage',\n",
    "#     'Lot Area',\n",
    "    \n",
    "    # Square Footage Features\n",
    "    'Total SF', # Engineered\n",
    "#     'Gr Liv Area',\n",
    "#     'Total Bsmt SF',\n",
    "#     '1st Flr SF',\n",
    "#     'Outside SF', #Engineered\n",
    "    \n",
    "    # Age Features\n",
    "    'Age', # Engineered\n",
    "#     'Year Built',\n",
    "#     'Year Remod/Add',\n",
    "    'Garage Yr Blt',\n",
    "    \n",
    "    # Ordinal Qualities\n",
    "    'Ordinal Exterior Qual', # Engineered\n",
    "    'Ordinal Neighborhood Qual', # Engineered\n",
    "#     'Ordinal Bsmt Qual', # Engineered\n",
    "#     'Foundation_PConc',\n",
    "    \n",
    "    # Luxury Features\n",
    "    'Luxury Count', # Engineered\n",
    "    'Utilities', # Engineered\n",
    "#     'Garage Cars',\n",
    "#     'Full Bath',\n",
    "#     'Half Bath',\n",
    "#     'Fireplaces',\n",
    "    \n",
    "    \n",
    "    #Qualitative Features\n",
    "    'Qualitative'\n",
    "]"
   ]
  },
  {
   "cell_type": "markdown",
   "metadata": {},
   "source": [
    "Treat features by dropping NA values to prevent issues in modeling"
   ]
  },
  {
   "cell_type": "code",
   "execution_count": 44,
   "metadata": {},
   "outputs": [],
   "source": [
    "# Dropping null values in all features used\n",
    "data.dropna(subset=features, inplace=True)"
   ]
  },
  {
   "cell_type": "markdown",
   "metadata": {},
   "source": [
    "## Modeling"
   ]
  },
  {
   "cell_type": "markdown",
   "metadata": {},
   "source": [
    "#### Feature and Target assignment"
   ]
  },
  {
   "cell_type": "code",
   "execution_count": 45,
   "metadata": {},
   "outputs": [],
   "source": [
    "X = data[features]\n",
    "y = data['SalePrice']\n",
    "\n",
    "# Split data into training and test sets\n",
    "X_train, X_test, y_train, y_test = train_test_split(X, y)"
   ]
  },
  {
   "cell_type": "markdown",
   "metadata": {},
   "source": [
    "#### Model instantiation, fitting, and scoring"
   ]
  },
  {
   "cell_type": "code",
   "execution_count": 65,
   "metadata": {},
   "outputs": [
    {
     "name": "stdout",
     "output_type": "stream",
     "text": [
      "training score: 0.9089473651455047\n",
      "test score: 0.8913995994171395\n"
     ]
    }
   ],
   "source": [
    "# Create modeling pipeline with polynomial, scaling, and linear regression\n",
    "pipe = Pipeline([\n",
    "    ('poly', PolynomialFeatures(include_bias=False)),\n",
    "    ('ss', StandardScaler()),\n",
    "#     ('lassm', LassoCV())\n",
    "    ('lr', LinearRegression())\n",
    "])\n",
    "\n",
    "# Fit the pipeline and supress output with ;\n",
    "pipe.fit(X_train, y_train);\n",
    "\n",
    "# Print relevant scores\n",
    "print('training score:',pipe.score(X_train, y_train))\n",
    "print('test score:', pipe.score(X_test, y_test))"
   ]
  },
  {
   "cell_type": "markdown",
   "metadata": {},
   "source": [
    "Commented out the GridSearch below, as the overfit model with any regularization performed worse than conservative linear regression,"
   ]
  },
  {
   "cell_type": "code",
   "execution_count": 63,
   "metadata": {},
   "outputs": [],
   "source": [
    "# params = {\n",
    "#     'lassm__alphas': [np.linspace(500.0, 1000, 1000)]\n",
    "# }\n",
    "\n",
    "# gs = GridSearchCV(pipe, param_grid=params)\n",
    "# gs.fit(X_train, y_train)\n",
    "# print(gs.best_score_)\n",
    "# #print(gs.best_params_)\n",
    "# gs.score(X_test, y_test)"
   ]
  },
  {
   "cell_type": "markdown",
   "metadata": {},
   "source": [
    "## Output for Assignment Submission\n",
    "Put the test.csv data through the same transformations as the training data.\n",
    "\n",
    "Output needs to be tuples of id then predicted value"
   ]
  },
  {
   "cell_type": "code",
   "execution_count": 56,
   "metadata": {},
   "outputs": [],
   "source": [
    "# Import test csv and assing it to test DataFrame\n",
    "test = pd.read_csv('./data/ames_test.csv')"
   ]
  },
  {
   "cell_type": "code",
   "execution_count": 57,
   "metadata": {},
   "outputs": [],
   "source": [
    "# Create submission DataFrame and assign the Ids from test to it\n",
    "submission = pd.DataFrame()\n",
    "submission['Id'] = test.Id"
   ]
  },
  {
   "cell_type": "code",
   "execution_count": 58,
   "metadata": {},
   "outputs": [],
   "source": [
    "# Call one hot encoding on test data\n",
    "test = encode_dataframe(test)\n",
    "\n",
    "# Put test data through all feature engineering transforms\n",
    "transform_features(test)\n",
    "\n",
    "# Put X in terms of numeric only to avoid null issues\n",
    "X_final = test[features].select_dtypes(include=[np.number]).interpolate()"
   ]
  },
  {
   "cell_type": "code",
   "execution_count": 59,
   "metadata": {},
   "outputs": [],
   "source": [
    "# Assign predictions to submission DataFrame\n",
    "submission['SalePrice'] = pipe.predict(X_final)"
   ]
  },
  {
   "cell_type": "code",
   "execution_count": 60,
   "metadata": {},
   "outputs": [
    {
     "data": {
      "text/html": [
       "<div>\n",
       "<style scoped>\n",
       "    .dataframe tbody tr th:only-of-type {\n",
       "        vertical-align: middle;\n",
       "    }\n",
       "\n",
       "    .dataframe tbody tr th {\n",
       "        vertical-align: top;\n",
       "    }\n",
       "\n",
       "    .dataframe thead th {\n",
       "        text-align: right;\n",
       "    }\n",
       "</style>\n",
       "<table border=\"1\" class=\"dataframe\">\n",
       "  <thead>\n",
       "    <tr style=\"text-align: right;\">\n",
       "      <th></th>\n",
       "      <th>Id</th>\n",
       "      <th>SalePrice</th>\n",
       "    </tr>\n",
       "  </thead>\n",
       "  <tbody>\n",
       "    <tr>\n",
       "      <th>0</th>\n",
       "      <td>2658</td>\n",
       "      <td>143702.519468</td>\n",
       "    </tr>\n",
       "    <tr>\n",
       "      <th>1</th>\n",
       "      <td>2718</td>\n",
       "      <td>172511.195844</td>\n",
       "    </tr>\n",
       "    <tr>\n",
       "      <th>2</th>\n",
       "      <td>2414</td>\n",
       "      <td>189758.164933</td>\n",
       "    </tr>\n",
       "    <tr>\n",
       "      <th>3</th>\n",
       "      <td>1989</td>\n",
       "      <td>125884.795380</td>\n",
       "    </tr>\n",
       "    <tr>\n",
       "      <th>4</th>\n",
       "      <td>625</td>\n",
       "      <td>177818.074718</td>\n",
       "    </tr>\n",
       "  </tbody>\n",
       "</table>\n",
       "</div>"
      ],
      "text/plain": [
       "     Id      SalePrice\n",
       "0  2658  143702.519468\n",
       "1  2718  172511.195844\n",
       "2  2414  189758.164933\n",
       "3  1989  125884.795380\n",
       "4   625  177818.074718"
      ]
     },
     "execution_count": 60,
     "metadata": {},
     "output_type": "execute_result"
    }
   ],
   "source": [
    "# Quick sanity check of submission DataFrame\n",
    "submission.head()"
   ]
  },
  {
   "cell_type": "code",
   "execution_count": 53,
   "metadata": {},
   "outputs": [],
   "source": [
    "# Output a csv for submitting to Kaggle\n",
    "submission.to_csv('submission16.csv', index=False)"
   ]
  }
 ],
 "metadata": {
  "kernelspec": {
   "display_name": "Python 3",
   "language": "python",
   "name": "python3"
  },
  "language_info": {
   "codemirror_mode": {
    "name": "ipython",
    "version": 3
   },
   "file_extension": ".py",
   "mimetype": "text/x-python",
   "name": "python",
   "nbconvert_exporter": "python",
   "pygments_lexer": "ipython3",
   "version": "3.6.4"
  }
 },
 "nbformat": 4,
 "nbformat_minor": 2
}
